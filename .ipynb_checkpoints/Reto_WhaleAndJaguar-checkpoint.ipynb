{
 "cells": [
  {
   "cell_type": "markdown",
   "metadata": {},
   "source": [
    "# Reto Whale & Jaguar"
   ]
  },
  {
   "cell_type": "code",
   "execution_count": 1,
   "metadata": {
    "id": "QNIhiYdjo5K2"
   },
   "outputs": [],
   "source": [
    "import pandas as pd\n",
    "import cv2\n",
    "import requests\n",
    "import tqdm "
   ]
  },
  {
   "cell_type": "code",
   "execution_count": 2,
   "metadata": {
    "id": "NrUssqd7sfiR"
   },
   "outputs": [],
   "source": [
    "import matplotlib.pyplot as plt"
   ]
  },
  {
   "cell_type": "markdown",
   "metadata": {},
   "source": [
    "## Dataset"
   ]
  },
  {
   "cell_type": "markdown",
   "metadata": {
    "id": "3G2IY7gipaYA"
   },
   "source": [
    "### Comprobación de imagen en el url"
   ]
  },
  {
   "cell_type": "code",
   "execution_count": 3,
   "metadata": {
    "id": "N4T1kIjNpL7M"
   },
   "outputs": [],
   "source": [
    "df = pd.read_csv('https://query.data.world/s/krujbjduhqp5cr4q6ukkc3rlf2nqjz')"
   ]
  },
  {
   "cell_type": "code",
   "execution_count": 4,
   "metadata": {
    "id": "MnFR_VhTo-Q5"
   },
   "outputs": [],
   "source": [
    "def img_read(url):\n",
    "    img_data = requests.get(image_url).content\n",
    "    return img_data"
   ]
  },
  {
   "cell_type": "markdown",
   "metadata": {
    "id": "tE6qZe_Zmy38"
   },
   "source": [
    "```\n",
    "url_check = []\n",
    "for i in range(1,10):\n",
    "    image_url = df['imageurl'][i]\n",
    "    image_id =  df['_unit_id'][i]\n",
    "    \n",
    "    img_data = img_read(image_url)\n",
    "        \n",
    "    with open('prueba.jpg'.format(image_id), 'wb') as handler1:\n",
    "        handler1.write(img_data)\n",
    "        \n",
    "    image = cv2.imread('prueba.jpg')\n",
    "    \n",
    "    if image is None:\n",
    "        # print('Vacio')\n",
    "        url_check.append(False)\n",
    "    else:\n",
    "        # print('No vacio')\n",
    "        url_check.append(True)\n",
    "        # with open('Image/{}.jpg'.format(image_id), 'wb') as handler:\n",
    "        #     handler.write(img_data)\n",
    "```\n",
    "\n"
   ]
  },
  {
   "cell_type": "code",
   "execution_count": 5,
   "metadata": {
    "id": "i3pKbl9ZpLw4"
   },
   "outputs": [],
   "source": [
    "# url_check = []\n",
    "# for i in range(1,10):\n",
    "#     image_url = df['imageurl'][i]\n",
    "#     image_id =  df['_unit_id'][i]\n",
    "    \n",
    "#     img_data = img_read(image_url)\n",
    "        \n",
    "#     with open('prueba.jpg'.format(image_id), 'wb') as handler1:\n",
    "#         handler1.write(img_data)\n",
    "        \n",
    "#     image = cv2.imread('prueba.jpg')\n",
    "    \n",
    "#     if image is None:\n",
    "#         # print('Vacio')\n",
    "#         url_check.append(False)\n",
    "#     else:\n",
    "#         # print('No vacio')\n",
    "#         url_check.append(True)\n",
    "#         # with open('Image/{}.jpg'.format(image_id), 'wb') as handler:\n",
    "#         #     handler.write(img_data)"
   ]
  },
  {
   "cell_type": "markdown",
   "metadata": {
    "id": "NVzlcyXhpEc9"
   },
   "source": [
    "### Descarga de imagenes"
   ]
  },
  {
   "cell_type": "markdown",
   "metadata": {
    "id": "aw9bq_8ynE1b"
   },
   "source": [
    "\n",
    "\n",
    "```\n",
    "paht_images =  'drive/MyDrive/WJ/Images'\n",
    "for i in tqdm.tqdm(range(len(data))):\n",
    "    image_url = data['imageurl'][i]\n",
    "    image_id =  data['_unit_id'][i]\n",
    "    \n",
    "    img_data = img_read(image_url)\n",
    "    with open('{}/{}.jpg'.format(paht_images,image_id), 'wb') as handler:\n",
    "      handler.write(img_data)\n",
    "```\n",
    "\n"
   ]
  },
  {
   "cell_type": "code",
   "execution_count": 6,
   "metadata": {
    "colab": {
     "base_uri": "https://localhost:8080/"
    },
    "id": "zVpF1nbAFXTm",
    "outputId": "8eb1b6de-02b1-4f0e-af00-72dc1cb2c2b8"
   },
   "outputs": [
    {
     "name": "stdout",
     "output_type": "stream",
     "text": [
      "Drive already mounted at /content/drive; to attempt to forcibly remount, call drive.mount(\"/content/drive\", force_remount=True).\n"
     ]
    }
   ],
   "source": [
    "from google.colab import drive\n",
    "drive.mount('/content/drive')"
   ]
  },
  {
   "cell_type": "code",
   "execution_count": 7,
   "metadata": {
    "id": "6R0Bl4rGo9eB"
   },
   "outputs": [],
   "source": [
    "path_csv = 'drive/MyDrive/WJ'\n",
    "data = pd.read_csv('{}/Filtrado_image-Sentiment-polarity-DFE.csv'.format(path_csv))"
   ]
  },
  {
   "cell_type": "code",
   "execution_count": 8,
   "metadata": {
    "id": "dJqhYjbStgld"
   },
   "outputs": [],
   "source": [
    "Keys = data.keys()"
   ]
  },
  {
   "cell_type": "code",
   "execution_count": 8,
   "metadata": {
    "id": "HSSLxZQ3FQWk"
   },
   "outputs": [],
   "source": []
  },
  {
   "cell_type": "code",
   "execution_count": 9,
   "metadata": {
    "colab": {
     "base_uri": "https://localhost:8080/"
    },
    "id": "_YtRguO_tghB",
    "outputId": "cef07a74-9f1d-48ed-fb25-97874239342d"
   },
   "outputs": [
    {
     "data": {
      "text/plain": [
       "Index(['Unnamed: 0', '_unit_id', '_golden', '_unit_state',\n",
       "       '_trusted_judgments', '_last_judgment_at',\n",
       "       'which_of_these_sentiment_scores_does_the_above_image_fit_into_best',\n",
       "       'which_of_these_sentiment_scores_does_the_above_image_fit_into_best:confidence',\n",
       "       'imageurl',\n",
       "       'which_of_these_sentiment_scores_does_the_above_image_fit_into_best_gold',\n",
       "       'which_of_these_sentiment_scores_does_the_above_image_fit_into_best_gold_reason'],\n",
       "      dtype='object')"
      ]
     },
     "execution_count": 9,
     "metadata": {},
     "output_type": "execute_result"
    }
   ],
   "source": [
    "Keys"
   ]
  },
  {
   "cell_type": "code",
   "execution_count": 10,
   "metadata": {
    "colab": {
     "base_uri": "https://localhost:8080/",
     "height": 461
    },
    "id": "0bJB9VP8tgbB",
    "outputId": "e57f03da-43f0-4c1b-d13f-fab0f57ef642"
   },
   "outputs": [
    {
     "data": {
      "text/html": [
       "<div>\n",
       "<style scoped>\n",
       "    .dataframe tbody tr th:only-of-type {\n",
       "        vertical-align: middle;\n",
       "    }\n",
       "\n",
       "    .dataframe tbody tr th {\n",
       "        vertical-align: top;\n",
       "    }\n",
       "\n",
       "    .dataframe thead th {\n",
       "        text-align: right;\n",
       "    }\n",
       "</style>\n",
       "<table border=\"1\" class=\"dataframe\">\n",
       "  <thead>\n",
       "    <tr style=\"text-align: right;\">\n",
       "      <th></th>\n",
       "      <th>Unnamed: 0</th>\n",
       "      <th>_unit_id</th>\n",
       "      <th>_golden</th>\n",
       "      <th>_unit_state</th>\n",
       "      <th>_trusted_judgments</th>\n",
       "      <th>_last_judgment_at</th>\n",
       "      <th>which_of_these_sentiment_scores_does_the_above_image_fit_into_best</th>\n",
       "      <th>which_of_these_sentiment_scores_does_the_above_image_fit_into_best:confidence</th>\n",
       "      <th>imageurl</th>\n",
       "      <th>which_of_these_sentiment_scores_does_the_above_image_fit_into_best_gold</th>\n",
       "      <th>which_of_these_sentiment_scores_does_the_above_image_fit_into_best_gold_reason</th>\n",
       "    </tr>\n",
       "  </thead>\n",
       "  <tbody>\n",
       "    <tr>\n",
       "      <th>0</th>\n",
       "      <td>0</td>\n",
       "      <td>694550568</td>\n",
       "      <td>True</td>\n",
       "      <td>golden</td>\n",
       "      <td>47</td>\n",
       "      <td>NaN</td>\n",
       "      <td>Positive</td>\n",
       "      <td>0.6395</td>\n",
       "      <td>http://farm1.staticflickr.com/20/71235476_3103...</td>\n",
       "      <td>Highly positive\\nPositive</td>\n",
       "      <td>He is smiling. =&gt; happy, joy</td>\n",
       "    </tr>\n",
       "    <tr>\n",
       "      <th>1</th>\n",
       "      <td>1</td>\n",
       "      <td>694550569</td>\n",
       "      <td>True</td>\n",
       "      <td>golden</td>\n",
       "      <td>36</td>\n",
       "      <td>NaN</td>\n",
       "      <td>Positive</td>\n",
       "      <td>0.6458</td>\n",
       "      <td>http://farm4.staticflickr.com/3096/2584485524_...</td>\n",
       "      <td>Highly positive\\nPositive</td>\n",
       "      <td>A beautiful scenery. =&gt; serenity</td>\n",
       "    </tr>\n",
       "    <tr>\n",
       "      <th>2</th>\n",
       "      <td>2</td>\n",
       "      <td>694550570</td>\n",
       "      <td>True</td>\n",
       "      <td>golden</td>\n",
       "      <td>35</td>\n",
       "      <td>NaN</td>\n",
       "      <td>Negative</td>\n",
       "      <td>0.8420</td>\n",
       "      <td>http://farm3.staticflickr.com/2880/11733997835...</td>\n",
       "      <td>Negative\\nHighly negative</td>\n",
       "      <td>They look serious. =&gt; sadness, fear</td>\n",
       "    </tr>\n",
       "    <tr>\n",
       "      <th>3</th>\n",
       "      <td>3</td>\n",
       "      <td>694550571</td>\n",
       "      <td>True</td>\n",
       "      <td>golden</td>\n",
       "      <td>41</td>\n",
       "      <td>NaN</td>\n",
       "      <td>Positive</td>\n",
       "      <td>0.7216</td>\n",
       "      <td>http://farm4.staticflickr.com/3022/2286937150_...</td>\n",
       "      <td>Highly positive\\nPositive</td>\n",
       "      <td>A cute puppy. =&gt; happy, joy</td>\n",
       "    </tr>\n",
       "    <tr>\n",
       "      <th>4</th>\n",
       "      <td>4</td>\n",
       "      <td>694550572</td>\n",
       "      <td>True</td>\n",
       "      <td>golden</td>\n",
       "      <td>46</td>\n",
       "      <td>NaN</td>\n",
       "      <td>Positive</td>\n",
       "      <td>0.8801</td>\n",
       "      <td>http://farm1.staticflickr.com/163/357381033_d0...</td>\n",
       "      <td>Highly positive\\nPositive</td>\n",
       "      <td>She looks fun. =&gt; fun, joy, happy</td>\n",
       "    </tr>\n",
       "    <tr>\n",
       "      <th>...</th>\n",
       "      <td>...</td>\n",
       "      <td>...</td>\n",
       "      <td>...</td>\n",
       "      <td>...</td>\n",
       "      <td>...</td>\n",
       "      <td>...</td>\n",
       "      <td>...</td>\n",
       "      <td>...</td>\n",
       "      <td>...</td>\n",
       "      <td>...</td>\n",
       "      <td>...</td>\n",
       "    </tr>\n",
       "    <tr>\n",
       "      <th>544</th>\n",
       "      <td>607</td>\n",
       "      <td>694551213</td>\n",
       "      <td>True</td>\n",
       "      <td>golden</td>\n",
       "      <td>41</td>\n",
       "      <td>NaN</td>\n",
       "      <td>Highly negative</td>\n",
       "      <td>0.7216</td>\n",
       "      <td>http://farm3.staticflickr.com/2771/4375119273_...</td>\n",
       "      <td>Negative\\nHighly negative</td>\n",
       "      <td>NaN</td>\n",
       "    </tr>\n",
       "    <tr>\n",
       "      <th>545</th>\n",
       "      <td>608</td>\n",
       "      <td>694551214</td>\n",
       "      <td>True</td>\n",
       "      <td>golden</td>\n",
       "      <td>38</td>\n",
       "      <td>NaN</td>\n",
       "      <td>Positive</td>\n",
       "      <td>0.6411</td>\n",
       "      <td>http://farm5.staticflickr.com/4016/4431934354_...</td>\n",
       "      <td>Positive\\nHighly positive</td>\n",
       "      <td>NaN</td>\n",
       "    </tr>\n",
       "    <tr>\n",
       "      <th>546</th>\n",
       "      <td>609</td>\n",
       "      <td>694551215</td>\n",
       "      <td>True</td>\n",
       "      <td>golden</td>\n",
       "      <td>36</td>\n",
       "      <td>NaN</td>\n",
       "      <td>Positive</td>\n",
       "      <td>0.8398</td>\n",
       "      <td>http://farm5.staticflickr.com/4051/4666252122_...</td>\n",
       "      <td>Positive\\nHighly positive</td>\n",
       "      <td>NaN</td>\n",
       "    </tr>\n",
       "    <tr>\n",
       "      <th>547</th>\n",
       "      <td>610</td>\n",
       "      <td>694551216</td>\n",
       "      <td>True</td>\n",
       "      <td>golden</td>\n",
       "      <td>44</td>\n",
       "      <td>NaN</td>\n",
       "      <td>Highly negative</td>\n",
       "      <td>0.8033</td>\n",
       "      <td>http://farm2.staticflickr.com/1271/4668910563_...</td>\n",
       "      <td>Highly negative\\nNegative</td>\n",
       "      <td>NaN</td>\n",
       "    </tr>\n",
       "    <tr>\n",
       "      <th>548</th>\n",
       "      <td>612</td>\n",
       "      <td>694551218</td>\n",
       "      <td>True</td>\n",
       "      <td>golden</td>\n",
       "      <td>57</td>\n",
       "      <td>NaN</td>\n",
       "      <td>Positive</td>\n",
       "      <td>0.8838</td>\n",
       "      <td>http://farm8.staticflickr.com/7273/7706451392_...</td>\n",
       "      <td>Positive\\nHighly positive</td>\n",
       "      <td>NaN</td>\n",
       "    </tr>\n",
       "  </tbody>\n",
       "</table>\n",
       "<p>549 rows × 11 columns</p>\n",
       "</div>"
      ],
      "text/plain": [
       "     Unnamed: 0  ...  which_of_these_sentiment_scores_does_the_above_image_fit_into_best_gold_reason\n",
       "0             0  ...                       He is smiling. => happy, joy                             \n",
       "1             1  ...                   A beautiful scenery. => serenity                             \n",
       "2             2  ...                They look serious. => sadness, fear                             \n",
       "3             3  ...                        A cute puppy. => happy, joy                             \n",
       "4             4  ...                  She looks fun. => fun, joy, happy                             \n",
       "..          ...  ...                                                ...                             \n",
       "544         607  ...                                                NaN                             \n",
       "545         608  ...                                                NaN                             \n",
       "546         609  ...                                                NaN                             \n",
       "547         610  ...                                                NaN                             \n",
       "548         612  ...                                                NaN                             \n",
       "\n",
       "[549 rows x 11 columns]"
      ]
     },
     "execution_count": 10,
     "metadata": {},
     "output_type": "execute_result"
    }
   ],
   "source": [
    "data[data['_golden']]"
   ]
  },
  {
   "cell_type": "code",
   "execution_count": 11,
   "metadata": {
    "colab": {
     "base_uri": "https://localhost:8080/",
     "height": 351
    },
    "id": "vxbE-FBGsIKo",
    "outputId": "7092ee72-0843-4332-cd39-076ce2b3134b"
   },
   "outputs": [
    {
     "data": {
      "text/plain": [
       "<matplotlib.axes._subplots.AxesSubplot at 0x7f1f150fbc90>"
      ]
     },
     "execution_count": 11,
     "metadata": {},
     "output_type": "execute_result"
    },
    {
     "data": {
      "image/png": "[encoded data removed]",
      "text/plain": [
       "<Figure size 432x288 with 1 Axes>"
      ]
     },
     "metadata": {
      "needs_background": "light"
     },
     "output_type": "display_data"
    }
   ],
   "source": [
    "data['which_of_these_sentiment_scores_does_the_above_image_fit_into_best'].value_counts().plot(kind='bar')"
   ]
  },
  {
   "cell_type": "code",
   "execution_count": 12,
   "metadata": {
    "colab": {
     "base_uri": "https://localhost:8080/"
    },
    "id": "GPSXO2URJ16n",
    "outputId": "84f0e644-9d5b-4f39-c9a5-93386947063a"
   },
   "outputs": [
    {
     "data": {
      "text/plain": [
       "Positive           7918\n",
       "Neutral            2068\n",
       "Negative           1952\n",
       "Highly positive     399\n",
       "Highly negative     256\n",
       "Name: which_of_these_sentiment_scores_does_the_above_image_fit_into_best, dtype: int64"
      ]
     },
     "execution_count": 12,
     "metadata": {},
     "output_type": "execute_result"
    }
   ],
   "source": [
    "data['which_of_these_sentiment_scores_does_the_above_image_fit_into_best'].value_counts()"
   ]
  },
  {
   "cell_type": "markdown",
   "metadata": {
    "id": "ykooCMwLKkNb"
   },
   "source": [
    "### Segmentación de datos "
   ]
  },
  {
   "cell_type": "code",
   "execution_count": 13,
   "metadata": {
    "colab": {
     "base_uri": "https://localhost:8080/"
    },
    "id": "-fAv7odWKyqO",
    "outputId": "29b2f213-b7b7-4b95-8e7d-720e05176ae0"
   },
   "outputs": [
    {
     "data": {
      "text/plain": [
       "Positive           247\n",
       "Negative           155\n",
       "Highly negative    100\n",
       "Highly positive     46\n",
       "Neutral              1\n",
       "Name: which_of_these_sentiment_scores_does_the_above_image_fit_into_best, dtype: int64"
      ]
     },
     "execution_count": 13,
     "metadata": {},
     "output_type": "execute_result"
    }
   ],
   "source": [
    "data[data['_golden']]['which_of_these_sentiment_scores_does_the_above_image_fit_into_best'].value_counts()"
   ]
  },
  {
   "cell_type": "code",
   "execution_count": 14,
   "metadata": {
    "id": "5u3WMJwNKylU"
   },
   "outputs": [],
   "source": [
    "data_positive =  data[data['which_of_these_sentiment_scores_does_the_above_image_fit_into_best']=='Positive']\n",
    "Positive_list = data_positive[data_positive['_golden']]['_unit_id']"
   ]
  },
  {
   "cell_type": "code",
   "execution_count": 15,
   "metadata": {
    "id": "uHIZT_jjKygy"
   },
   "outputs": [],
   "source": [
    "data_Negative =  data[data['which_of_these_sentiment_scores_does_the_above_image_fit_into_best']=='Negative']\n",
    "Negative_list = data_Negative[data_Negative['_golden']]['_unit_id']"
   ]
  },
  {
   "cell_type": "code",
   "execution_count": 16,
   "metadata": {
    "id": "JMtOuhM-Kyan"
   },
   "outputs": [],
   "source": [
    "data_Highly_negative =  data[data['which_of_these_sentiment_scores_does_the_above_image_fit_into_best']=='Highly negative']\n",
    "Highly_negative_list = data_Highly_negative[data_Highly_negative['_golden']]['_unit_id']"
   ]
  },
  {
   "cell_type": "code",
   "execution_count": 17,
   "metadata": {
    "id": "cmqvZ3K9K9Yj"
   },
   "outputs": [],
   "source": [
    "data_Highly_negative =  data[data['which_of_these_sentiment_scores_does_the_above_image_fit_into_best']=='Highly positive']\n",
    "Highly_positive_list = data_Highly_negative[data_Highly_negative['_golden']]['_unit_id']"
   ]
  },
  {
   "cell_type": "code",
   "execution_count": 18,
   "metadata": {
    "id": "FDhW3vAqLJtF"
   },
   "outputs": [],
   "source": [
    "data_Highly_negative =  data[data['which_of_these_sentiment_scores_does_the_above_image_fit_into_best']=='Neutral']\n",
    "Neutral_list = data_Highly_negative[data_Highly_negative['_golden']]['_unit_id']"
   ]
  },
  {
   "cell_type": "code",
   "execution_count": 19,
   "metadata": {
    "colab": {
     "base_uri": "https://localhost:8080/"
    },
    "id": "qYtGFv9DK9Uz",
    "outputId": "46eafc8c-a809-4af8-99c5-5d7bf58fb48a"
   },
   "outputs": [
    {
     "data": {
      "text/plain": [
       "513    694551181\n",
       "Name: _unit_id, dtype: int64"
      ]
     },
     "execution_count": 19,
     "metadata": {},
     "output_type": "execute_result"
    }
   ],
   "source": [
    "Neutral_list"
   ]
  },
  {
   "cell_type": "code",
   "execution_count": 20,
   "metadata": {
    "id": "954DqvTzKKup"
   },
   "outputs": [],
   "source": [
    "data_golden_False = data[data['_golden']==False]"
   ]
  },
  {
   "cell_type": "code",
   "execution_count": 21,
   "metadata": {
    "id": "6AnGGIdDKKqU"
   },
   "outputs": [],
   "source": [
    "def complete_image(lista,emotion):\n",
    "  size_to_add = 256-len(lista)\n",
    "  list_to_add = data_golden_False[data_golden_False['which_of_these_sentiment_scores_does_the_above_image_fit_into_best']==emotion][:size_to_add]['_unit_id']\n",
    "  lista = lista.append(list_to_add)\n",
    "  return lista"
   ]
  },
  {
   "cell_type": "code",
   "execution_count": 22,
   "metadata": {
    "id": "V3T0iFkoKKnE"
   },
   "outputs": [],
   "source": [
    "Positive_list = complete_image(Positive_list,'Positive')\n",
    "Negative_list = complete_image(Negative_list,'Negative')\n",
    "Highly_negative_list = complete_image(Highly_negative_list,'Highly negative')\n",
    "Highly_positive_list = complete_image(Highly_positive_list,'Highly positive')\n",
    "Neutral_list = complete_image(Neutral_list,'Neutral')"
   ]
  },
  {
   "cell_type": "code",
   "execution_count": 23,
   "metadata": {
    "id": "yMcnuzVuKKja"
   },
   "outputs": [],
   "source": [
    "All_list = Positive_list.append(Negative_list).append(Highly_negative_list).append(Highly_positive_list).append(Neutral_list)"
   ]
  },
  {
   "cell_type": "code",
   "execution_count": 24,
   "metadata": {
    "id": "7PyRzlmlNSxr"
   },
   "outputs": [],
   "source": [
    "All_matrix = [Positive_list,Negative_list,Highly_negative_list,Highly_positive_list,Neutral_list]"
   ]
  },
  {
   "cell_type": "code",
   "execution_count": 25,
   "metadata": {
    "id": "nHvBzOdcKKfU"
   },
   "outputs": [],
   "source": [
    "data_reduce = data[data['_unit_id'].isin(All_list)]"
   ]
  },
  {
   "cell_type": "code",
   "execution_count": 26,
   "metadata": {
    "colab": {
     "base_uri": "https://localhost:8080/",
     "height": 351
    },
    "id": "LWu_EZXoKop7",
    "outputId": "387362cb-6c97-4e5b-bf69-7a608a9a0ba5"
   },
   "outputs": [
    {
     "data": {
      "text/plain": [
       "<matplotlib.axes._subplots.AxesSubplot at 0x7f1f14b94850>"
      ]
     },
     "execution_count": 26,
     "metadata": {},
     "output_type": "execute_result"
    },
    {
     "data": {
      "image/png": "[encoded data removed]",
      "text/plain": [
       "<Figure size 432x288 with 1 Axes>"
      ]
     },
     "metadata": {
      "needs_background": "light"
     },
     "output_type": "display_data"
    }
   ],
   "source": [
    "data_reduce['which_of_these_sentiment_scores_does_the_above_image_fit_into_best'].value_counts().plot(kind='bar')"
   ]
  },
  {
   "cell_type": "code",
   "execution_count": 27,
   "metadata": {
    "id": "3kcGdi45Kq4m"
   },
   "outputs": [],
   "source": [
    "# data_reduce.to_csv('{}/Reduce_image-Sentiment-polarity-DFE.csv'.format(path_csv))"
   ]
  },
  {
   "cell_type": "markdown",
   "metadata": {
    "id": "Yfd2jzHgoKzx"
   },
   "source": [
    "## Modelo"
   ]
  },
  {
   "cell_type": "markdown",
   "metadata": {
    "id": "53IrS8MILUFN"
   },
   "source": [
    "### Dividir datos "
   ]
  },
  {
   "cell_type": "code",
   "execution_count": 28,
   "metadata": {
    "id": "7W1B6bgcLTr2"
   },
   "outputs": [],
   "source": [
    "from sklearn.model_selection import train_test_split\n",
    "import numpy as np"
   ]
  },
  {
   "cell_type": "code",
   "execution_count": 29,
   "metadata": {
    "id": "JsLWK1IQLTme"
   },
   "outputs": [],
   "source": [
    "per_train = 0.7 \n",
    "per_valid = 0.2\n",
    "per_test = 0.1"
   ]
  },
  {
   "cell_type": "markdown",
   "metadata": {
    "id": "jBb35-C-M1ha"
   },
   "source": [
    "Train-> 180  <br /> \n",
    "Valind -> 52 <br /> \n",
    "test -> 24 <br /> "
   ]
  },
  {
   "cell_type": "code",
   "execution_count": 30,
   "metadata": {
    "id": "8ArKkk_TNKXs"
   },
   "outputs": [],
   "source": [
    "Train_list = []\n",
    "Valid_list = []\n",
    "Test_list = []\n",
    "for j in range(len(All_matrix)):\n",
    "  lista = np.array(All_matrix[j])\n",
    "\n",
    "  Train_list.append(lista[:180])\n",
    "  Valid_list.append(lista[180:180+52])\n",
    "  Test_list.append(lista[180+52:])"
   ]
  },
  {
   "cell_type": "code",
   "execution_count": 31,
   "metadata": {
    "id": "58p58-vONKK1"
   },
   "outputs": [],
   "source": [
    "Train_list = np.array(Train_list).flatten()\n",
    "Valid_list = np.array(Valid_list).flatten()\n",
    "Test_list = np.array(Test_list).flatten()"
   ]
  },
  {
   "cell_type": "code",
   "execution_count": 32,
   "metadata": {
    "id": "8_5TlhEVUzRC"
   },
   "outputs": [],
   "source": [
    "import torchvision.transforms as transforms\n",
    "\n",
    "#--- Transformamos los datos para adaptarlos a la entrada de ResNet 224x224 px\n",
    "data_transform = transforms.Compose([\n",
    "                 transforms.Resize((224, 224)),\n",
    "                #  transforms.Grayscale(3), #Dado que MNIST tiene un solo canal, lo cambiamos a 3 para no tener que modificar más capas en el modelo\n",
    "                 transforms.ToTensor(),\n",
    "                 transforms.Normalize(mean=[0.485, 0.456, 0.406],std=[0.229, 0.224, 0.225])\n",
    "                 ])\n",
    "#data_tranform para los casos de imagenes en escala de grises\n",
    "data_transform_BN = transforms.Compose([\n",
    "                  transforms.Resize((224, 224)),\n",
    "                  transforms.Grayscale(3), #Dado que MNIST tiene un solo canal, lo cambiamos a 3 para no tener que modificar más capas en el modelo\n",
    "                  transforms.ToTensor(),\n",
    "                  transforms.Normalize(mean=[0.485, 0.456, 0.406],std=[0.229, 0.224, 0.225])\n",
    "                 ])"
   ]
  },
  {
   "cell_type": "markdown",
   "metadata": {},
   "source": [
    "#### Encode "
   ]
  },
  {
   "cell_type": "code",
   "execution_count": 33,
   "metadata": {
    "id": "b8zeAQzHWfX4"
   },
   "outputs": [],
   "source": [
    "emotions_code = {\"which_of_these_sentiment_scores_does_the_above_image_fit_into_best\": \n",
    "                 {'Highly negative': 1, 'Negative': 2,'Neutral': 3,'Positive': 4,'Highly positive': 5}}"
   ]
  },
  {
   "cell_type": "code",
   "execution_count": 34,
   "metadata": {
    "id": "9QFyEDxjWqsY"
   },
   "outputs": [],
   "source": [
    "d1= data.replace(emotions_code)"
   ]
  },
  {
   "cell_type": "code",
   "execution_count": 35,
   "metadata": {
    "id": "WihyiyljcsXy"
   },
   "outputs": [],
   "source": [
    "import tqdm "
   ]
  },
  {
   "cell_type": "code",
   "execution_count": 36,
   "metadata": {
    "colab": {
     "base_uri": "https://localhost:8080/"
    },
    "id": "rka_TTRZVBC7",
    "outputId": "736a2201-cd08-41fc-ff8f-fc83215698e6"
   },
   "outputs": [
    {
     "name": "stderr",
     "output_type": "stream",
     "text": [
      "100%|██████████| 900/900 [03:38<00:00,  4.13it/s]\n"
     ]
    }
   ],
   "source": [
    "from PIL import Image\n",
    "\n",
    "path_image = 'drive/MyDrive/WJ/Images'\n",
    "N_train = len(Train_list)\n",
    "\n",
    "X_train = []\n",
    "Y_train = []\n",
    "data_reduce_encode =  data_reduce.replace(emotions_code)\n",
    "\n",
    "for  train_file in tqdm.tqdm(Train_list):\n",
    "\n",
    "  path_file = path_image+'/{}.jpg'.format(train_file)\n",
    "  y1= data_reduce_encode[data_reduce_encode['_unit_id']== train_file]['which_of_these_sentiment_scores_does_the_above_image_fit_into_best'].values[0]\n",
    "  Y_train.append( y1 )\n",
    "  try:\n",
    "    X_train.append( np.array(data_transform(Image.open(path_file))))\n",
    "  except:\n",
    "    X_train.append( np.array(data_transform_BN(Image.open(path_file))))\n",
    "\n"
   ]
  },
  {
   "cell_type": "code",
   "execution_count": 37,
   "metadata": {
    "colab": {
     "base_uri": "https://localhost:8080/"
    },
    "id": "Qs6b2hkkfe_m",
    "outputId": "ef3835be-ef51-4d42-eb88-6714324c0a2a"
   },
   "outputs": [
    {
     "name": "stderr",
     "output_type": "stream",
     "text": [
      "100%|██████████| 260/260 [01:00<00:00,  4.26it/s]\n"
     ]
    }
   ],
   "source": [
    "X_valid = []\n",
    "Y_valid = []\n",
    "data_reduce_encode =  data_reduce.replace(emotions_code)\n",
    "\n",
    "for train_file in tqdm.tqdm(Valid_list):\n",
    "\n",
    "  path_file = path_image+'/{}.jpg'.format(train_file)\n",
    "  y1= data_reduce_encode[data_reduce_encode['_unit_id']== train_file]['which_of_these_sentiment_scores_does_the_above_image_fit_into_best'].values[0]\n",
    "  Y_valid.append( y1 )\n",
    "  try:\n",
    "    X_valid.append( np.array(data_transform(Image.open(path_file))))\n",
    "  except:\n",
    "    X_valid.append( np.array(data_transform_BN(Image.open(path_file))))\n"
   ]
  },
  {
   "cell_type": "code",
   "execution_count": 38,
   "metadata": {
    "colab": {
     "base_uri": "https://localhost:8080/"
    },
    "id": "lRVNMQUfeiQq",
    "outputId": "efadee05-728c-421c-c4b5-1d829921c82a"
   },
   "outputs": [
    {
     "name": "stderr",
     "output_type": "stream",
     "text": [
      "100%|██████████| 120/120 [00:26<00:00,  4.54it/s]\n"
     ]
    }
   ],
   "source": [
    "X_test = []\n",
    "Y_test = []\n",
    "data_reduce_encode =  data_reduce.replace(emotions_code)\n",
    "\n",
    "for train_file in tqdm.tqdm(Test_list):\n",
    "\n",
    "  path_file = path_image+'/{}.jpg'.format(train_file)\n",
    "  y1= data_reduce_encode[data_reduce_encode['_unit_id']== train_file]['which_of_these_sentiment_scores_does_the_above_image_fit_into_best'].values[0]\n",
    "  Y_test.append( y1 )\n",
    "  try:\n",
    "    X_test.append( np.array(data_transform(Image.open(path_file))))\n",
    "  except:\n",
    "    X_test.append( np.array(data_transform_BN(Image.open(path_file))))\n"
   ]
  },
  {
   "cell_type": "code",
   "execution_count": 39,
   "metadata": {
    "colab": {
     "base_uri": "https://localhost:8080/",
     "height": 551
    },
    "id": "2Xr7L5PjhNQ7",
    "outputId": "5f03beac-c660-4741-9651-6c90bc6b11b4"
   },
   "outputs": [
    {
     "name": "stderr",
     "output_type": "stream",
     "text": [
      "Clipping input data to the valid range for imshow with RGB data ([0..1] for floats or [0..255] for integers).\n",
      "Clipping input data to the valid range for imshow with RGB data ([0..1] for floats or [0..255] for integers).\n",
      "Clipping input data to the valid range for imshow with RGB data ([0..1] for floats or [0..255] for integers).\n",
      "Clipping input data to the valid range for imshow with RGB data ([0..1] for floats or [0..255] for integers).\n"
     ]
    },
    {
     "data": {
      "image/png": "[encoded data removed]",
      "text/plain": [
       "<Figure size 576x576 with 4 Axes>"
      ]
     },
     "metadata": {
      "needs_background": "light"
     },
     "output_type": "display_data"
    }
   ],
   "source": [
    "import matplotlib.pyplot as plt\n",
    "\n",
    "fig = plt.figure(figsize=(8,8))\n",
    "for i in range(4):\n",
    "  plt.subplot(2,2,i+1)\n",
    "  plt.imshow(X_test[i*15].reshape(224,224,3))\n",
    "  plt.title(Y_test[i*15])\n",
    "  plt.axis(False)\n",
    "plt.show()"
   ]
  },
  {
   "cell_type": "code",
   "execution_count": 40,
   "metadata": {
    "id": "qyKpUvhsiyAx"
   },
   "outputs": [],
   "source": [
    "import torch\n",
    "from torch.autograd import Variable"
   ]
  },
  {
   "cell_type": "code",
   "execution_count": 41,
   "metadata": {
    "colab": {
     "base_uri": "https://localhost:8080/"
    },
    "id": "sZTIhW7Ki0bV",
    "outputId": "0afc6b7a-c47c-433b-b2a9-5b5e55d7922a"
   },
   "outputs": [
    {
     "data": {
      "text/plain": [
       "torch.Size([900, 3, 224, 224])"
      ]
     },
     "execution_count": 41,
     "metadata": {},
     "output_type": "execute_result"
    }
   ],
   "source": [
    "X_train = Variable(torch.from_numpy(np.array(X_train))).float()\n",
    "Y_train = Variable(torch.from_numpy(np.array(Y_train))).long()\n",
    "\n",
    "X_valid = Variable(torch.from_numpy(np.array(X_valid))).float()\n",
    "Y_valid = Variable(torch.from_numpy(np.array(Y_valid))).long()\n",
    "\n",
    "X_test = Variable(torch.from_numpy(np.array(X_test))).float()\n",
    "Y_test = Variable(torch.from_numpy(np.array(Y_test))).long()\n",
    "\n",
    "X_train.data.size()"
   ]
  },
  {
   "cell_type": "code",
   "execution_count": 42,
   "metadata": {
    "id": "wjL1oWG-jw71"
   },
   "outputs": [],
   "source": [
    "batch_size = 32\n",
    "\n",
    "train_ds = torch.utils.data.TensorDataset(X_train, Y_train)\n",
    "train_dl = torch.utils.data.DataLoader(train_ds, batch_size=batch_size, shuffle=True)"
   ]
  },
  {
   "cell_type": "code",
   "execution_count": 43,
   "metadata": {
    "id": "svVBvNIdj7fN"
   },
   "outputs": [],
   "source": [
    "from tensorflow.keras.applications.resnet50 import ResNet50\n",
    "from keras.preprocessing import image\n",
    "import keras.applications\n",
    "import numpy as np\n",
    "from tensorflow.keras.models import load_model"
   ]
  },
  {
   "cell_type": "code",
   "execution_count": 44,
   "metadata": {
    "colab": {
     "base_uri": "https://localhost:8080/"
    },
    "id": "_V_A9QZElsJ9",
    "outputId": "88acfd56-2f57-41b7-f455-a8ffcee865b4"
   },
   "outputs": [
    {
     "name": "stdout",
     "output_type": "stream",
     "text": [
      "Requirement already satisfied: torchvision in /usr/local/lib/python3.7/dist-packages (0.10.0+cu102)\n",
      "Requirement already satisfied: pillow>=5.3.0 in /usr/local/lib/python3.7/dist-packages (from torchvision) (7.1.2)\n",
      "Requirement already satisfied: numpy in /usr/local/lib/python3.7/dist-packages (from torchvision) (1.19.5)\n",
      "Requirement already satisfied: torch==1.9.0 in /usr/local/lib/python3.7/dist-packages (from torchvision) (1.9.0+cu102)\n",
      "Requirement already satisfied: typing-extensions in /usr/local/lib/python3.7/dist-packages (from torch==1.9.0->torchvision) (3.7.4.3)\n"
     ]
    }
   ],
   "source": [
    "!pip install torchvision"
   ]
  },
  {
   "cell_type": "code",
   "execution_count": 45,
   "metadata": {
    "colab": {
     "base_uri": "https://localhost:8080/",
     "height": 116,
     "referenced_widgets": [
      "f3c2365528064d3d9288d6e4f48fb96b",
      "14f10a88add14901826cf77fc00b5848",
      "61311c63c5bf4dc0987d88728c14800b",
      "f1a3eecf3e8648ddb1c2a7c0e999b403",
      "4b6fadf5e0b849bd8c1feca84f4ad79d",
      "cebc3a6629f74d60af3325b61ce23696",
      "e57965954c5f49a8b0b0389973c23594",
      "60be6ecd6f1048ce800bb9a4e2c60648",
      "d0c347a5ece842f4ba1cf20405b02e35",
      "985ff9ab21c04e4e9d55744bf3f2a825",
      "dd2ba7f696634307ad31f4f3b8955521",
      "6915b675c6c3479193571be1a34b039a",
      "6883ee671bc64f0093735894924fe127",
      "4ce1e990b41b488c9fc5d653471c5447",
      "f1bf3a12713b482db6754a0df5ca2270",
      "fd690f8ac7ac474c82824daaf10e6a83",
      "0cc31e0e0f1c4dfdbe6b96bc5e72ddb0",
      "a7017fbefe13498d914b3906f833a275",
      "7b7cdb58283e4dc7a3c9ff22a1ce9757",
      "9cebb787060a491d8c6db4b3d95d7a2c",
      "a88571e2a4e24d988dda032bd8f85593",
      "d39ac28a4b58497b9a870626114f5c74"
     ]
    },
    "id": "wc-k990tj4NC",
    "outputId": "84243834-3095-4d33-f60c-5b0b3ba6e560"
   },
   "outputs": [
    {
     "name": "stderr",
     "output_type": "stream",
     "text": [
      "Downloading: \"https://download.pytorch.org/models/resnet18-f37072fd.pth\" to /root/.cache/torch/hub/checkpoints/resnet18-f37072fd.pth\n"
     ]
    },
    {
     "data": {
      "application/vnd.jupyter.widget-view+json": {
       "model_id": "f3c2365528064d3d9288d6e4f48fb96b",
       "version_major": 2,
       "version_minor": 0
      },
      "text/plain": [
       "  0%|          | 0.00/44.7M [00:00<?, ?B/s]"
      ]
     },
     "metadata": {},
     "output_type": "display_data"
    },
    {
     "name": "stderr",
     "output_type": "stream",
     "text": [
      "Downloading: \"https://download.pytorch.org/models/resnet50-0676ba61.pth\" to /root/.cache/torch/hub/checkpoints/resnet50-0676ba61.pth\n"
     ]
    },
    {
     "data": {
      "application/vnd.jupyter.widget-view+json": {
       "model_id": "6915b675c6c3479193571be1a34b039a",
       "version_major": 2,
       "version_minor": 0
      },
      "text/plain": [
       "  0%|          | 0.00/97.8M [00:00<?, ?B/s]"
      ]
     },
     "metadata": {},
     "output_type": "display_data"
    }
   ],
   "source": [
    "import torch\n",
    "import torchvision\n",
    "# from torch import torchvision\n",
    "model_resnet18 = torchvision.models.resnet18(pretrained=True)\n",
    "model_resnet50 = torchvision.models.resnet50(pretrained=True)\n",
    "# model = torch.hub.load('pytorch/vision', 'inception_v3', pretrained=True)"
   ]
  },
  {
   "cell_type": "markdown",
   "metadata": {},
   "source": [
    "### Cargar modelos preentrenado"
   ]
  },
  {
   "cell_type": "code",
   "execution_count": 46,
   "metadata": {
    "colab": {
     "base_uri": "https://localhost:8080/"
    },
    "id": "YQHg5ptwnIwn",
    "outputId": "219c8fd3-8ddf-48c8-8af7-4572a73bf79a"
   },
   "outputs": [
    {
     "data": {
      "text/plain": [
       "ResNet(\n",
       "  (conv1): Conv2d(3, 64, kernel_size=(7, 7), stride=(2, 2), padding=(3, 3), bias=False)\n",
       "  (bn1): BatchNorm2d(64, eps=1e-05, momentum=0.1, affine=True, track_running_stats=True)\n",
       "  (relu): ReLU(inplace=True)\n",
       "  (maxpool): MaxPool2d(kernel_size=3, stride=2, padding=1, dilation=1, ceil_mode=False)\n",
       "  (layer1): Sequential(\n",
       "    (0): BasicBlock(\n",
       "      (conv1): Conv2d(64, 64, kernel_size=(3, 3), stride=(1, 1), padding=(1, 1), bias=False)\n",
       "      (bn1): BatchNorm2d(64, eps=1e-05, momentum=0.1, affine=True, track_running_stats=True)\n",
       "      (relu): ReLU(inplace=True)\n",
       "      (conv2): Conv2d(64, 64, kernel_size=(3, 3), stride=(1, 1), padding=(1, 1), bias=False)\n",
       "      (bn2): BatchNorm2d(64, eps=1e-05, momentum=0.1, affine=True, track_running_stats=True)\n",
       "    )\n",
       "    (1): BasicBlock(\n",
       "      (conv1): Conv2d(64, 64, kernel_size=(3, 3), stride=(1, 1), padding=(1, 1), bias=False)\n",
       "      (bn1): BatchNorm2d(64, eps=1e-05, momentum=0.1, affine=True, track_running_stats=True)\n",
       "      (relu): ReLU(inplace=True)\n",
       "      (conv2): Conv2d(64, 64, kernel_size=(3, 3), stride=(1, 1), padding=(1, 1), bias=False)\n",
       "      (bn2): BatchNorm2d(64, eps=1e-05, momentum=0.1, affine=True, track_running_stats=True)\n",
       "    )\n",
       "  )\n",
       "  (layer2): Sequential(\n",
       "    (0): BasicBlock(\n",
       "      (conv1): Conv2d(64, 128, kernel_size=(3, 3), stride=(2, 2), padding=(1, 1), bias=False)\n",
       "      (bn1): BatchNorm2d(128, eps=1e-05, momentum=0.1, affine=True, track_running_stats=True)\n",
       "      (relu): ReLU(inplace=True)\n",
       "      (conv2): Conv2d(128, 128, kernel_size=(3, 3), stride=(1, 1), padding=(1, 1), bias=False)\n",
       "      (bn2): BatchNorm2d(128, eps=1e-05, momentum=0.1, affine=True, track_running_stats=True)\n",
       "      (downsample): Sequential(\n",
       "        (0): Conv2d(64, 128, kernel_size=(1, 1), stride=(2, 2), bias=False)\n",
       "        (1): BatchNorm2d(128, eps=1e-05, momentum=0.1, affine=True, track_running_stats=True)\n",
       "      )\n",
       "    )\n",
       "    (1): BasicBlock(\n",
       "      (conv1): Conv2d(128, 128, kernel_size=(3, 3), stride=(1, 1), padding=(1, 1), bias=False)\n",
       "      (bn1): BatchNorm2d(128, eps=1e-05, momentum=0.1, affine=True, track_running_stats=True)\n",
       "      (relu): ReLU(inplace=True)\n",
       "      (conv2): Conv2d(128, 128, kernel_size=(3, 3), stride=(1, 1), padding=(1, 1), bias=False)\n",
       "      (bn2): BatchNorm2d(128, eps=1e-05, momentum=0.1, affine=True, track_running_stats=True)\n",
       "    )\n",
       "  )\n",
       "  (layer3): Sequential(\n",
       "    (0): BasicBlock(\n",
       "      (conv1): Conv2d(128, 256, kernel_size=(3, 3), stride=(2, 2), padding=(1, 1), bias=False)\n",
       "      (bn1): BatchNorm2d(256, eps=1e-05, momentum=0.1, affine=True, track_running_stats=True)\n",
       "      (relu): ReLU(inplace=True)\n",
       "      (conv2): Conv2d(256, 256, kernel_size=(3, 3), stride=(1, 1), padding=(1, 1), bias=False)\n",
       "      (bn2): BatchNorm2d(256, eps=1e-05, momentum=0.1, affine=True, track_running_stats=True)\n",
       "      (downsample): Sequential(\n",
       "        (0): Conv2d(128, 256, kernel_size=(1, 1), stride=(2, 2), bias=False)\n",
       "        (1): BatchNorm2d(256, eps=1e-05, momentum=0.1, affine=True, track_running_stats=True)\n",
       "      )\n",
       "    )\n",
       "    (1): BasicBlock(\n",
       "      (conv1): Conv2d(256, 256, kernel_size=(3, 3), stride=(1, 1), padding=(1, 1), bias=False)\n",
       "      (bn1): BatchNorm2d(256, eps=1e-05, momentum=0.1, affine=True, track_running_stats=True)\n",
       "      (relu): ReLU(inplace=True)\n",
       "      (conv2): Conv2d(256, 256, kernel_size=(3, 3), stride=(1, 1), padding=(1, 1), bias=False)\n",
       "      (bn2): BatchNorm2d(256, eps=1e-05, momentum=0.1, affine=True, track_running_stats=True)\n",
       "    )\n",
       "  )\n",
       "  (layer4): Sequential(\n",
       "    (0): BasicBlock(\n",
       "      (conv1): Conv2d(256, 512, kernel_size=(3, 3), stride=(2, 2), padding=(1, 1), bias=False)\n",
       "      (bn1): BatchNorm2d(512, eps=1e-05, momentum=0.1, affine=True, track_running_stats=True)\n",
       "      (relu): ReLU(inplace=True)\n",
       "      (conv2): Conv2d(512, 512, kernel_size=(3, 3), stride=(1, 1), padding=(1, 1), bias=False)\n",
       "      (bn2): BatchNorm2d(512, eps=1e-05, momentum=0.1, affine=True, track_running_stats=True)\n",
       "      (downsample): Sequential(\n",
       "        (0): Conv2d(256, 512, kernel_size=(1, 1), stride=(2, 2), bias=False)\n",
       "        (1): BatchNorm2d(512, eps=1e-05, momentum=0.1, affine=True, track_running_stats=True)\n",
       "      )\n",
       "    )\n",
       "    (1): BasicBlock(\n",
       "      (conv1): Conv2d(512, 512, kernel_size=(3, 3), stride=(1, 1), padding=(1, 1), bias=False)\n",
       "      (bn1): BatchNorm2d(512, eps=1e-05, momentum=0.1, affine=True, track_running_stats=True)\n",
       "      (relu): ReLU(inplace=True)\n",
       "      (conv2): Conv2d(512, 512, kernel_size=(3, 3), stride=(1, 1), padding=(1, 1), bias=False)\n",
       "      (bn2): BatchNorm2d(512, eps=1e-05, momentum=0.1, affine=True, track_running_stats=True)\n",
       "    )\n",
       "  )\n",
       "  (avgpool): AdaptiveAvgPool2d(output_size=(1, 1))\n",
       "  (fc): Linear(in_features=512, out_features=1000, bias=True)\n",
       ")"
      ]
     },
     "execution_count": 46,
     "metadata": {},
     "output_type": "execute_result"
    }
   ],
   "source": [
    "model_resnet18 = torchvision.models.resnet18(pretrained=True)\n",
    "model_resnet50 = torchvision.models.resnet50(pretrained=True)\n",
    "model_resnet18"
   ]
  },
  {
   "cell_type": "code",
   "execution_count": 47,
   "metadata": {
    "colab": {
     "base_uri": "https://localhost:8080/"
    },
    "id": "QF5nVNfcqASK",
    "outputId": "ebe872aa-a92d-47e4-8be7-e953976ab3bb"
   },
   "outputs": [
    {
     "name": "stdout",
     "output_type": "stream",
     "text": [
      "Collecting hiddenlayer\n",
      "  Downloading hiddenlayer-0.3-py3-none-any.whl (19 kB)\n",
      "Installing collected packages: hiddenlayer\n",
      "Successfully installed hiddenlayer-0.3\n"
     ]
    }
   ],
   "source": [
    "!pip install hiddenlayer\n",
    "import hiddenlayer as hl"
   ]
  },
  {
   "cell_type": "markdown",
   "metadata": {},
   "source": [
    "### Entrenamiento"
   ]
  },
  {
   "cell_type": "code",
   "execution_count": 60,
   "metadata": {
    "colab": {
     "base_uri": "https://localhost:8080/",
     "height": 585
    },
    "id": "nj8WzGMaqPE6",
    "outputId": "aedba8ff-39be-4c3c-d2fa-ddcd812a9490"
   },
   "outputs": [
    {
     "data": {
      "image/png": "[encoded data removed]",
      "text/plain": [
       "<Figure size 864x576 with 2 Axes>"
      ]
     },
     "metadata": {
      "needs_background": "light"
     },
     "output_type": "display_data"
    }
   ],
   "source": [
    "model_resnet18 = torchvision.models.resnet18(pretrained=True)\n",
    "model_resnet50 = torchvision.models.resnet50(pretrained=True)\n",
    "\n",
    "model = model_resnet18.cuda()\n",
    "\n",
    "model.train()\n",
    "\n",
    "#--- Definimos nuestro criterio de evaluación y el optimizador \n",
    "optimizer = torch.optim.SGD(model.parameters(), lr=0.001, weight_decay=0.1)\n",
    "criterion = torch.nn.CrossEntropyLoss()\n",
    "\n",
    "\n",
    "#--- Entrenamos el modelo usando únicamente 5 épocas\n",
    "n_epochs = 100\n",
    "\n",
    "history = hl.History()\n",
    "canvas = hl.Canvas()\n",
    "\n",
    "iter = 0\n",
    "\n",
    "for epoch in range(n_epochs):\n",
    "  for batch_idx, (X_train_batch, Y_train_batch) in enumerate(train_dl):\n",
    "    # Pasamos os datos a 'cuda'\n",
    "    \n",
    "    X_train_batch = X_train_batch.cuda()\n",
    "    Y_train_batch = Y_train_batch.cuda()\n",
    "\n",
    "    # Realiza una predicción\n",
    "    Y_pred = model(X_train_batch)\n",
    "\n",
    "    # Calcula el loss\n",
    "    loss = criterion(Y_pred, Y_train_batch)\n",
    "\n",
    "    Y_pred = torch.argmax(Y_pred, 1)\n",
    "\n",
    "    # Calcula el accuracy\n",
    "    acc = sum(Y_train_batch == Y_pred)/len(Y_pred)\n",
    "    \n",
    "    # Backpropagation\n",
    "    optimizer.zero_grad()\n",
    "    loss.backward()\n",
    "    optimizer.step()\n",
    "\n",
    "    if iter%10 == 0:\n",
    "        #-- Visualizamos la evolución de los score loss y accuracy\n",
    "        history.log((epoch+1, iter), loss=loss, accuracy=acc)\n",
    "        with canvas:\n",
    "          canvas.draw_plot(history[\"loss\"])\n",
    "          canvas.draw_plot(history[\"accuracy\"])\n",
    "\n",
    "    iter += 1\n",
    "    del X_train_batch, Y_train_batch, Y_pred\n",
    "torch.save(model,open('drive/MyDrive/WJ/Modelos/ResNet18_{}_V2.pt'.format(n_epochs),'wb'))"
   ]
  },
  {
   "cell_type": "markdown",
   "metadata": {},
   "source": [
    "### Validación del modelo"
   ]
  },
  {
   "cell_type": "code",
   "execution_count": 61,
   "metadata": {
    "colab": {
     "base_uri": "https://localhost:8080/"
    },
    "id": "PVNmYZJo3pV9",
    "outputId": "bb5b47da-11c6-402c-de3b-0954e6f1a40a"
   },
   "outputs": [
    {
     "name": "stdout",
     "output_type": "stream",
     "text": [
      "Loss:1.88, F1:0.39, Acc:0.41\n"
     ]
    }
   ],
   "source": [
    "\n",
    "from sklearn.metrics import f1_score\n",
    "\n",
    "model.cpu()\n",
    "model.eval()\n",
    "\n",
    "Y_pred = model(X_test)\n",
    "loss = criterion(Y_pred,Y_test)\n",
    "\n",
    "Y_pred = torch.argmax(Y_pred, 1)\n",
    "f1 = f1_score(Y_test, Y_pred, average='macro')\n",
    "\n",
    "acc = sum(Y_test == Y_pred)/len(Y_pred)\n",
    "Score = 'Loss:{:.2f}, F1:{:.2f}, Acc:{:.2f}'.format(loss.item(), f1, acc ) \n",
    "print( Score )\n",
    "path_models_socore = 'drive/MyDrive/WJ/Score'\n",
    "\n",
    "Score = 'Loss:{:.2f}, F1:{:.2f}, Acc:{:.2f}'.format(loss.item(), f1, acc ) \n",
    "text_file = open('{}/ResNet18_{}_V2.txt'.format(path_models_socore,n_epochs),'w')\n",
    "n = text_file.write(Score)\n",
    "text_file.close()\n"
   ]
  },
  {
   "cell_type": "code",
   "execution_count": 62,
   "metadata": {
    "id": "PEzQwwCV7Ubh"
   },
   "outputs": [],
   "source": [
    "\n",
    "from sklearn.metrics import confusion_matrix\n",
    "\n",
    "def CM(Y_true, Y_pred, classes, lclasses=None):\n",
    "  fig = plt.figure(figsize=(10, 10))\n",
    "  cm = confusion_matrix(Y_true, Y_pred)\n",
    "  if lclasses == None:\n",
    "    lclasses = np.arange(0,classes)\n",
    "  cm = cm.astype('float') / cm.sum(axis=1)[:, np.newaxis]\n",
    "  cmap=plt.cm.Blues\n",
    "  ax = fig.add_subplot(1,1,1)\n",
    "  im = ax.imshow(cm, interpolation='nearest', cmap=cmap)\n",
    "  ax.figure.colorbar(im, ax=ax, pad=0.01, shrink=0.86)\n",
    "  ax.set(xticks=np.arange(cm.shape[1]), yticks=np.arange(cm.shape[0]),xticklabels=lclasses, yticklabels=lclasses)\n",
    "  ax.set_xlabel(\"Predicted\",size=20)\n",
    "  ax.set_ylabel(\"True\",size=20)\n",
    "  ax.set_ylim(classes-0.5, -0.5)\n",
    "\n",
    "  plt.setp(ax.get_xticklabels(), size=12)\n",
    "  plt.setp(ax.get_yticklabels(), size=12)\n",
    "\n",
    "  fmt = '.2f'\n",
    "  thresh = cm.max()/2.\n",
    "  for i in range(cm.shape[0]):\n",
    "      for j in range(cm.shape[1]):\n",
    "          ax.text(j, i, format(cm[i, j], fmt),ha=\"center\", va=\"center\",size=15 , color=\"white\" if cm[i, j] > thresh else \"black\")\n",
    "\n",
    "  plt.show()"
   ]
  },
  {
   "cell_type": "code",
   "execution_count": 63,
   "metadata": {
    "colab": {
     "base_uri": "https://localhost:8080/"
    },
    "id": "5P7GF3vs7bff",
    "outputId": "45c83a90-398c-4cad-cce4-a1ceb69a868e"
   },
   "outputs": [
    {
     "data": {
      "text/plain": [
       "tensor([4, 4, 4, 4, 4, 4, 4, 4, 4, 4, 4, 4, 4, 4, 4, 4, 4, 4, 4, 4, 4, 4, 4, 4,\n",
       "        2, 2, 2, 2, 2, 2, 2, 2, 2, 2, 2, 2, 2, 2, 2, 2, 2, 2, 2, 2, 2, 2, 2, 2,\n",
       "        1, 1, 1, 1, 1, 1, 1, 1, 1, 1, 1, 1, 1, 1, 1, 1, 1, 1, 1, 1, 1, 1, 1, 1,\n",
       "        5, 5, 5, 5, 5, 5, 5, 5, 5, 5, 5, 5, 5, 5, 5, 5, 5, 5, 5, 5, 5, 5, 5, 5,\n",
       "        3, 3, 3, 3, 3, 3, 3, 3, 3, 3, 3, 3, 3, 3, 3, 3, 3, 3, 3, 3, 3, 3, 3, 3])"
      ]
     },
     "execution_count": 63,
     "metadata": {},
     "output_type": "execute_result"
    }
   ],
   "source": [
    "Y_test"
   ]
  },
  {
   "cell_type": "code",
   "execution_count": 64,
   "metadata": {
    "colab": {
     "base_uri": "https://localhost:8080/"
    },
    "id": "G4UN2XWK88mL",
    "outputId": "0542b3c7-36ee-45d9-c70d-f4ea36e56950"
   },
   "outputs": [
    {
     "data": {
      "text/plain": [
       "tensor([4, 4, 4, 4, 4, 4, 4, 4, 4, 4, 4, 4, 1, 4, 5, 4, 5, 3, 4, 3, 4, 4, 5, 4,\n",
       "        3, 2, 2, 3, 3, 5, 4, 5, 1, 3, 1, 2, 3, 2, 3, 3, 5, 3, 2, 1, 3, 1, 3, 5,\n",
       "        2, 3, 2, 2, 2, 3, 1, 2, 4, 2, 3, 2, 2, 4, 3, 1, 4, 2, 1, 4, 1, 5, 3, 4,\n",
       "        5, 2, 4, 4, 5, 5, 5, 2, 3, 5, 3, 4, 2, 5, 5, 4, 4, 5, 5, 3, 4, 4, 2, 3,\n",
       "        3, 2, 3, 4, 3, 5, 3, 3, 3, 3, 1, 2, 3, 3, 3, 2, 2, 3, 3, 3, 2, 2, 5, 5])"
      ]
     },
     "execution_count": 64,
     "metadata": {},
     "output_type": "execute_result"
    }
   ],
   "source": [
    "Y_pred"
   ]
  },
  {
   "cell_type": "code",
   "execution_count": 65,
   "metadata": {
    "colab": {
     "base_uri": "https://localhost:8080/",
     "height": 543
    },
    "id": "cEp6s8rB7WaQ",
    "outputId": "08c71f97-0b41-458b-b998-e1b53431abbe"
   },
   "outputs": [
    {
     "data": {
      "image/png": "[encoded data removed]",
      "text/plain": [
       "<Figure size 720x720 with 2 Axes>"
      ]
     },
     "metadata": {
      "needs_background": "light"
     },
     "output_type": "display_data"
    }
   ],
   "source": [
    "CM(Y_test, Y_pred, 5)"
   ]
  },
  {
   "cell_type": "code",
   "execution_count": null,
   "metadata": {
    "colab": {
     "base_uri": "https://localhost:8080/",
     "height": 262
    },
    "id": "zcw5ESWR9rab",
    "outputId": "c4e253eb-d6d1-41a7-a1fd-851a7e569986"
   },
   "outputs": [
    {
     "data": {
      "image/svg+xml": [
       "<?xml version=\"1.0\" encoding=\"UTF-8\" standalone=\"no\"?>\n",
       "<!DOCTYPE svg PUBLIC \"-//W3C//DTD SVG 1.1//EN\"\n",
       " \"http://www.w3.org/Graphics/SVG/1.1/DTD/svg11.dtd\">\n",
       "<!-- Generated by graphviz version 2.40.1 (20161225.0304)\n",
       " -->\n",
       "<!-- Title: %3 Pages: 1 -->\n",
       "<svg width=\"6642pt\" height=\"166pt\"\n",
       " viewBox=\"0.00 0.00 6642.00 166.00\" xmlns=\"http://www.w3.org/2000/svg\" xmlns:xlink=\"http://www.w3.org/1999/xlink\">\n",
       "<g id=\"graph0\" class=\"graph\" transform=\"scale(1 1) rotate(0) translate(72 130)\">\n",
       "<title>%3</title>\n",
       "<polygon fill=\"#ffffff\" stroke=\"transparent\" points=\"-72,36 -72,-130 6570,-130 6570,36 -72,36\"/>\n",
       "<!-- /outputs/130 -->\n",
       "<g id=\"node1\" class=\"node\">\n",
       "<title>/outputs/130</title>\n",
       "<polygon fill=\"#e8e8e8\" stroke=\"#000000\" points=\"315,-79 245,-79 245,-43 315,-43 315,-79\"/>\n",
       "<text text-anchor=\"start\" x=\"253\" y=\"-58\" font-family=\"Times\" font-size=\"10.00\" fill=\"#000000\">MaxPool3x3</text>\n",
       "</g>\n",
       "<!-- /outputs/144 -->\n",
       "<g id=\"node2\" class=\"node\">\n",
       "<title>/outputs/144</title>\n",
       "<polygon fill=\"#e8e8e8\" stroke=\"#000000\" points=\"855,-69 801,-69 801,-33 855,-33 855,-69\"/>\n",
       "<text text-anchor=\"start\" x=\"819\" y=\"-48\" font-family=\"Times\" font-size=\"10.00\" fill=\"#000000\">Add</text>\n",
       "</g>\n",
       "<!-- /outputs/130&#45;&gt;/outputs/144 -->\n",
       "<g id=\"edge1\" class=\"edge\">\n",
       "<title>/outputs/130&#45;&gt;/outputs/144</title>\n",
       "<path fill=\"none\" stroke=\"#000000\" d=\"M315.1414,-62.5776C397.2116,-65.8721 607.8166,-72.0696 783,-58 785.5515,-57.7951 788.1774,-57.53 790.8179,-57.2234\"/>\n",
       "<polygon fill=\"#000000\" stroke=\"#000000\" points=\"791.4994,-60.6636 800.9495,-55.8732 790.5747,-53.7249 791.4994,-60.6636\"/>\n",
       "<text text-anchor=\"middle\" x=\"596\" y=\"-69\" font-family=\"Times\" font-size=\"10.00\" fill=\"#000000\">64x64x66x66</text>\n",
       "</g>\n",
       "<!-- 7928694503640722362 -->\n",
       "<g id=\"node22\" class=\"node\">\n",
       "<title>7928694503640722362</title>\n",
       "<polygon fill=\"#e8e8e8\" stroke=\"#000000\" points=\"549,-46 409,-46 409,-10 549,-10 549,-46\"/>\n",
       "<text text-anchor=\"start\" x=\"417\" y=\"-25\" font-family=\"Times\" font-size=\"10.00\" fill=\"#000000\">Conv3x3 &gt; BatchNorm &gt; Relu</text>\n",
       "</g>\n",
       "<!-- /outputs/130&#45;&gt;7928694503640722362 -->\n",
       "<g id=\"edge18\" class=\"edge\">\n",
       "<title>/outputs/130&#45;&gt;7928694503640722362</title>\n",
       "<path fill=\"none\" stroke=\"#000000\" d=\"M315.2702,-52.6021C321.1737,-51.3151 327.2482,-50.0631 333,-49 354.1953,-45.0827 377.236,-41.4711 398.6173,-38.3878\"/>\n",
       "<polygon fill=\"#000000\" stroke=\"#000000\" points=\"399.2292,-41.8361 408.637,-36.9635 398.2439,-34.9058 399.2292,-41.8361\"/>\n",
       "<text text-anchor=\"middle\" x=\"362\" y=\"-52\" font-family=\"Times\" font-size=\"10.00\" fill=\"#000000\">64x64x66x66</text>\n",
       "</g>\n",
       "<!-- /outputs/145 -->\n",
       "<g id=\"node3\" class=\"node\">\n",
       "<title>/outputs/145</title>\n",
       "<polygon fill=\"#e8e8e8\" stroke=\"#000000\" points=\"1003,-69 949,-69 949,-33 1003,-33 1003,-69\"/>\n",
       "<text text-anchor=\"start\" x=\"966\" y=\"-48\" font-family=\"Times\" font-size=\"10.00\" fill=\"#000000\">Relu</text>\n",
       "</g>\n",
       "<!-- /outputs/144&#45;&gt;/outputs/145 -->\n",
       "<g id=\"edge2\" class=\"edge\">\n",
       "<title>/outputs/144&#45;&gt;/outputs/145</title>\n",
       "<path fill=\"none\" stroke=\"#000000\" d=\"M855.1455,-51C878.5424,-51 912.5551,-51 938.5413,-51\"/>\n",
       "<polygon fill=\"#000000\" stroke=\"#000000\" points=\"938.7764,-54.5001 948.7764,-51 938.7764,-47.5001 938.7764,-54.5001\"/>\n",
       "<text text-anchor=\"middle\" x=\"902\" y=\"-54\" font-family=\"Times\" font-size=\"10.00\" fill=\"#000000\">64x64x66x66</text>\n",
       "</g>\n",
       "<!-- /outputs/159 -->\n",
       "<g id=\"node4\" class=\"node\">\n",
       "<title>/outputs/159</title>\n",
       "<polygon fill=\"#e8e8e8\" stroke=\"#000000\" points=\"1543,-64 1489,-64 1489,-28 1543,-28 1543,-64\"/>\n",
       "<text text-anchor=\"start\" x=\"1507\" y=\"-43\" font-family=\"Times\" font-size=\"10.00\" fill=\"#000000\">Add</text>\n",
       "</g>\n",
       "<!-- /outputs/145&#45;&gt;/outputs/159 -->\n",
       "<g id=\"edge3\" class=\"edge\">\n",
       "<title>/outputs/145&#45;&gt;/outputs/159</title>\n",
       "<path fill=\"none\" stroke=\"#000000\" d=\"M1003.1169,-51.7692C1077.7773,-53.7088 1292.6479,-58.0917 1471,-50 1473.5367,-49.8849 1476.1514,-49.735 1478.784,-49.5608\"/>\n",
       "<polygon fill=\"#000000\" stroke=\"#000000\" points=\"1479.1922,-53.04 1488.898,-48.7917 1478.6614,-46.0601 1479.1922,-53.04\"/>\n",
       "<text text-anchor=\"middle\" x=\"1284\" y=\"-58\" font-family=\"Times\" font-size=\"10.00\" fill=\"#000000\">64x64x66x66</text>\n",
       "</g>\n",
       "<!-- 5085823260727969576 -->\n",
       "<g id=\"node23\" class=\"node\">\n",
       "<title>5085823260727969576</title>\n",
       "<polygon fill=\"#e8e8e8\" stroke=\"#000000\" points=\"1237,-36 1097,-36 1097,0 1237,0 1237,-36\"/>\n",
       "<text text-anchor=\"start\" x=\"1105\" y=\"-15\" font-family=\"Times\" font-size=\"10.00\" fill=\"#000000\">Conv3x3 &gt; BatchNorm &gt; Relu</text>\n",
       "</g>\n",
       "<!-- /outputs/145&#45;&gt;5085823260727969576 -->\n",
       "<g id=\"edge19\" class=\"edge\">\n",
       "<title>/outputs/145&#45;&gt;5085823260727969576</title>\n",
       "<path fill=\"none\" stroke=\"#000000\" d=\"M1003.0051,-43.2462C1008.905,-41.7073 1015.1381,-40.1988 1021,-39 1042.2255,-34.6592 1065.3672,-30.8939 1086.8405,-27.7979\"/>\n",
       "<polygon fill=\"#000000\" stroke=\"#000000\" points=\"1087.4903,-31.241 1096.9029,-26.3777 1086.5119,-24.3097 1087.4903,-31.241\"/>\n",
       "<text text-anchor=\"middle\" x=\"1050\" y=\"-42\" font-family=\"Times\" font-size=\"10.00\" fill=\"#000000\">64x64x66x66</text>\n",
       "</g>\n",
       "<!-- /outputs/160 -->\n",
       "<g id=\"node5\" class=\"node\">\n",
       "<title>/outputs/160</title>\n",
       "<polygon fill=\"#e8e8e8\" stroke=\"#000000\" points=\"1691,-64 1637,-64 1637,-28 1691,-28 1691,-64\"/>\n",
       "<text text-anchor=\"start\" x=\"1654\" y=\"-43\" font-family=\"Times\" font-size=\"10.00\" fill=\"#000000\">Relu</text>\n",
       "</g>\n",
       "<!-- /outputs/159&#45;&gt;/outputs/160 -->\n",
       "<g id=\"edge4\" class=\"edge\">\n",
       "<title>/outputs/159&#45;&gt;/outputs/160</title>\n",
       "<path fill=\"none\" stroke=\"#000000\" d=\"M1543.1455,-46C1566.5424,-46 1600.5551,-46 1626.5413,-46\"/>\n",
       "<polygon fill=\"#000000\" stroke=\"#000000\" points=\"1626.7764,-49.5001 1636.7764,-46 1626.7764,-42.5001 1626.7764,-49.5001\"/>\n",
       "<text text-anchor=\"middle\" x=\"1590\" y=\"-49\" font-family=\"Times\" font-size=\"10.00\" fill=\"#000000\">64x64x66x66</text>\n",
       "</g>\n",
       "<!-- 17068650480719868881 -->\n",
       "<g id=\"node24\" class=\"node\">\n",
       "<title>17068650480719868881</title>\n",
       "<polygon fill=\"#e8e8e8\" stroke=\"#000000\" points=\"1925,-93 1785,-93 1785,-57 1925,-57 1925,-93\"/>\n",
       "<text text-anchor=\"start\" x=\"1793\" y=\"-72\" font-family=\"Times\" font-size=\"10.00\" fill=\"#000000\">Conv3x3 &gt; BatchNorm &gt; Relu</text>\n",
       "</g>\n",
       "<!-- /outputs/160&#45;&gt;17068650480719868881 -->\n",
       "<g id=\"edge20\" class=\"edge\">\n",
       "<title>/outputs/160&#45;&gt;17068650480719868881</title>\n",
       "<path fill=\"none\" stroke=\"#000000\" d=\"M1691.3656,-50.155C1713.2368,-53.4757 1745.0563,-58.307 1774.8335,-62.8281\"/>\n",
       "<polygon fill=\"#000000\" stroke=\"#000000\" points=\"1774.4242,-66.306 1784.8363,-64.3469 1775.475,-59.3853 1774.4242,-66.306\"/>\n",
       "<text text-anchor=\"middle\" x=\"1738\" y=\"-64\" font-family=\"Times\" font-size=\"10.00\" fill=\"#000000\">64x64x66x66</text>\n",
       "</g>\n",
       "<!-- 15262805781635894267 -->\n",
       "<g id=\"node33\" class=\"node\">\n",
       "<title>15262805781635894267</title>\n",
       "<polygon fill=\"#e8e8e8\" stroke=\"#000000\" points=\"2054,-47 1943,-47 1943,-11 2054,-11 2054,-47\"/>\n",
       "<text text-anchor=\"start\" x=\"1951.5\" y=\"-26\" font-family=\"Times\" font-size=\"10.00\" fill=\"#000000\">Conv1x1 &gt; BatchNorm</text>\n",
       "</g>\n",
       "<!-- /outputs/160&#45;&gt;15262805781635894267 -->\n",
       "<g id=\"edge32\" class=\"edge\">\n",
       "<title>/outputs/160&#45;&gt;15262805781635894267</title>\n",
       "<path fill=\"none\" stroke=\"#000000\" d=\"M1691.0616,-41.253C1696.9579,-40.3693 1703.1753,-39.5516 1709,-39 1785.5135,-31.7538 1873.8445,-29.5954 1932.6162,-29.0326\"/>\n",
       "<polygon fill=\"#000000\" stroke=\"#000000\" points=\"1932.9031,-32.5304 1942.8738,-28.9477 1932.8451,-25.5307 1932.9031,-32.5304\"/>\n",
       "<text text-anchor=\"middle\" x=\"1738\" y=\"-42\" font-family=\"Times\" font-size=\"10.00\" fill=\"#000000\">64x64x66x66</text>\n",
       "</g>\n",
       "<!-- /outputs/180 -->\n",
       "<g id=\"node6\" class=\"node\">\n",
       "<title>/outputs/180</title>\n",
       "<polygon fill=\"#e8e8e8\" stroke=\"#000000\" points=\"2289,-63 2235,-63 2235,-27 2289,-27 2289,-63\"/>\n",
       "<text text-anchor=\"start\" x=\"2253\" y=\"-42\" font-family=\"Times\" font-size=\"10.00\" fill=\"#000000\">Add</text>\n",
       "</g>\n",
       "<!-- /outputs/181 -->\n",
       "<g id=\"node7\" class=\"node\">\n",
       "<title>/outputs/181</title>\n",
       "<polygon fill=\"#e8e8e8\" stroke=\"#000000\" points=\"2443,-63 2389,-63 2389,-27 2443,-27 2443,-63\"/>\n",
       "<text text-anchor=\"start\" x=\"2406\" y=\"-42\" font-family=\"Times\" font-size=\"10.00\" fill=\"#000000\">Relu</text>\n",
       "</g>\n",
       "<!-- /outputs/180&#45;&gt;/outputs/181 -->\n",
       "<g id=\"edge5\" class=\"edge\">\n",
       "<title>/outputs/180&#45;&gt;/outputs/181</title>\n",
       "<path fill=\"none\" stroke=\"#000000\" d=\"M2289.1776,-45C2314.0618,-45 2351.112,-45 2378.7492,-45\"/>\n",
       "<polygon fill=\"#000000\" stroke=\"#000000\" points=\"2378.8355,-48.5001 2388.8355,-45 2378.8355,-41.5001 2378.8355,-48.5001\"/>\n",
       "<text text-anchor=\"middle\" x=\"2339\" y=\"-48\" font-family=\"Times\" font-size=\"10.00\" fill=\"#000000\">64x128x33x33</text>\n",
       "</g>\n",
       "<!-- /outputs/195 -->\n",
       "<g id=\"node8\" class=\"node\">\n",
       "<title>/outputs/195</title>\n",
       "<polygon fill=\"#e8e8e8\" stroke=\"#000000\" points=\"3000,-63 2946,-63 2946,-27 3000,-27 3000,-63\"/>\n",
       "<text text-anchor=\"start\" x=\"2964\" y=\"-42\" font-family=\"Times\" font-size=\"10.00\" fill=\"#000000\">Add</text>\n",
       "</g>\n",
       "<!-- /outputs/181&#45;&gt;/outputs/195 -->\n",
       "<g id=\"edge6\" class=\"edge\">\n",
       "<title>/outputs/181&#45;&gt;/outputs/195</title>\n",
       "<path fill=\"none\" stroke=\"#000000\" d=\"M2443.4765,-51.3887C2449.2345,-52.4755 2455.2915,-53.4347 2461,-54 2489.306,-56.8028 2496.5556,-54.0706 2525,-54 2704.1128,-53.5556 2749.4544,-66.2496 2928,-52 2930.5516,-51.7964 2933.1775,-51.5323 2935.8182,-51.2263\"/>\n",
       "<polygon fill=\"#000000\" stroke=\"#000000\" points=\"2936.4991,-54.6666 2945.9498,-49.8777 2935.5754,-47.7278 2936.4991,-54.6666\"/>\n",
       "<text text-anchor=\"middle\" x=\"2733\" y=\"-62\" font-family=\"Times\" font-size=\"10.00\" fill=\"#000000\">64x128x33x33</text>\n",
       "</g>\n",
       "<!-- 11163753751487310383 -->\n",
       "<g id=\"node25\" class=\"node\">\n",
       "<title>11163753751487310383</title>\n",
       "<polygon fill=\"#e8e8e8\" stroke=\"#000000\" points=\"2683,-40 2543,-40 2543,-4 2683,-4 2683,-40\"/>\n",
       "<text text-anchor=\"start\" x=\"2551\" y=\"-19\" font-family=\"Times\" font-size=\"10.00\" fill=\"#000000\">Conv3x3 &gt; BatchNorm &gt; Relu</text>\n",
       "</g>\n",
       "<!-- /outputs/181&#45;&gt;11163753751487310383 -->\n",
       "<g id=\"edge21\" class=\"edge\">\n",
       "<title>/outputs/181&#45;&gt;11163753751487310383</title>\n",
       "<path fill=\"none\" stroke=\"#000000\" d=\"M2443.392,-41.8019C2466.4785,-39.1066 2500.7241,-35.1084 2532.4107,-31.4089\"/>\n",
       "<polygon fill=\"#000000\" stroke=\"#000000\" points=\"2533.0646,-34.8564 2542.5913,-30.2203 2532.2528,-27.9036 2533.0646,-34.8564\"/>\n",
       "<text text-anchor=\"middle\" x=\"2493\" y=\"-43\" font-family=\"Times\" font-size=\"10.00\" fill=\"#000000\">64x128x33x33</text>\n",
       "</g>\n",
       "<!-- /outputs/196 -->\n",
       "<g id=\"node9\" class=\"node\">\n",
       "<title>/outputs/196</title>\n",
       "<polygon fill=\"#e8e8e8\" stroke=\"#000000\" points=\"3154,-63 3100,-63 3100,-27 3154,-27 3154,-63\"/>\n",
       "<text text-anchor=\"start\" x=\"3117\" y=\"-42\" font-family=\"Times\" font-size=\"10.00\" fill=\"#000000\">Relu</text>\n",
       "</g>\n",
       "<!-- /outputs/195&#45;&gt;/outputs/196 -->\n",
       "<g id=\"edge7\" class=\"edge\">\n",
       "<title>/outputs/195&#45;&gt;/outputs/196</title>\n",
       "<path fill=\"none\" stroke=\"#000000\" d=\"M3000.1776,-45C3025.0618,-45 3062.112,-45 3089.7492,-45\"/>\n",
       "<polygon fill=\"#000000\" stroke=\"#000000\" points=\"3089.8355,-48.5001 3099.8355,-45 3089.8355,-41.5001 3089.8355,-48.5001\"/>\n",
       "<text text-anchor=\"middle\" x=\"3050\" y=\"-48\" font-family=\"Times\" font-size=\"10.00\" fill=\"#000000\">64x128x33x33</text>\n",
       "</g>\n",
       "<!-- 10649982311867300868 -->\n",
       "<g id=\"node26\" class=\"node\">\n",
       "<title>10649982311867300868</title>\n",
       "<polygon fill=\"#e8e8e8\" stroke=\"#000000\" points=\"3394,-92 3254,-92 3254,-56 3394,-56 3394,-92\"/>\n",
       "<text text-anchor=\"start\" x=\"3262\" y=\"-71\" font-family=\"Times\" font-size=\"10.00\" fill=\"#000000\">Conv3x3 &gt; BatchNorm &gt; Relu</text>\n",
       "</g>\n",
       "<!-- /outputs/196&#45;&gt;10649982311867300868 -->\n",
       "<g id=\"edge22\" class=\"edge\">\n",
       "<title>/outputs/196&#45;&gt;10649982311867300868</title>\n",
       "<path fill=\"none\" stroke=\"#000000\" d=\"M3154.392,-49.0323C3177.4785,-52.4308 3211.7241,-57.4721 3243.4107,-62.1366\"/>\n",
       "<polygon fill=\"#000000\" stroke=\"#000000\" points=\"3243.1881,-65.6415 3253.5913,-63.6353 3244.2076,-58.7161 3243.1881,-65.6415\"/>\n",
       "<text text-anchor=\"middle\" x=\"3204\" y=\"-64\" font-family=\"Times\" font-size=\"10.00\" fill=\"#000000\">64x128x33x33</text>\n",
       "</g>\n",
       "<!-- 15832368889612550563 -->\n",
       "<g id=\"node36\" class=\"node\">\n",
       "<title>15832368889612550563</title>\n",
       "<polygon fill=\"#e8e8e8\" stroke=\"#000000\" points=\"3523,-46 3412,-46 3412,-10 3523,-10 3523,-46\"/>\n",
       "<text text-anchor=\"start\" x=\"3420.5\" y=\"-25\" font-family=\"Times\" font-size=\"10.00\" fill=\"#000000\">Conv1x1 &gt; BatchNorm</text>\n",
       "</g>\n",
       "<!-- /outputs/196&#45;&gt;15832368889612550563 -->\n",
       "<g id=\"edge38\" class=\"edge\">\n",
       "<title>/outputs/196&#45;&gt;15832368889612550563</title>\n",
       "<path fill=\"none\" stroke=\"#000000\" d=\"M3154.0613,-40.2499C3159.9576,-39.3663 3166.1751,-38.5496 3172,-38 3250.7448,-30.5703 3341.7511,-28.4616 3401.7307,-27.9602\"/>\n",
       "<polygon fill=\"#000000\" stroke=\"#000000\" points=\"3401.8456,-31.4596 3411.8205,-27.8886 3401.7959,-24.4597 3401.8456,-31.4596\"/>\n",
       "<text text-anchor=\"middle\" x=\"3204\" y=\"-41\" font-family=\"Times\" font-size=\"10.00\" fill=\"#000000\">64x128x33x33</text>\n",
       "</g>\n",
       "<!-- /outputs/216 -->\n",
       "<g id=\"node10\" class=\"node\">\n",
       "<title>/outputs/216</title>\n",
       "<polygon fill=\"#e8e8e8\" stroke=\"#000000\" points=\"3758,-62 3704,-62 3704,-26 3758,-26 3758,-62\"/>\n",
       "<text text-anchor=\"start\" x=\"3722\" y=\"-41\" font-family=\"Times\" font-size=\"10.00\" fill=\"#000000\">Add</text>\n",
       "</g>\n",
       "<!-- /outputs/217 -->\n",
       "<g id=\"node11\" class=\"node\">\n",
       "<title>/outputs/217</title>\n",
       "<polygon fill=\"#e8e8e8\" stroke=\"#000000\" points=\"3912,-62 3858,-62 3858,-26 3912,-26 3912,-62\"/>\n",
       "<text text-anchor=\"start\" x=\"3875\" y=\"-41\" font-family=\"Times\" font-size=\"10.00\" fill=\"#000000\">Relu</text>\n",
       "</g>\n",
       "<!-- /outputs/216&#45;&gt;/outputs/217 -->\n",
       "<g id=\"edge8\" class=\"edge\">\n",
       "<title>/outputs/216&#45;&gt;/outputs/217</title>\n",
       "<path fill=\"none\" stroke=\"#000000\" d=\"M3758.1776,-44C3783.0618,-44 3820.112,-44 3847.7492,-44\"/>\n",
       "<polygon fill=\"#000000\" stroke=\"#000000\" points=\"3847.8355,-47.5001 3857.8355,-44 3847.8355,-40.5001 3847.8355,-47.5001\"/>\n",
       "<text text-anchor=\"middle\" x=\"3808\" y=\"-47\" font-family=\"Times\" font-size=\"10.00\" fill=\"#000000\">64x256x17x17</text>\n",
       "</g>\n",
       "<!-- /outputs/231 -->\n",
       "<g id=\"node12\" class=\"node\">\n",
       "<title>/outputs/231</title>\n",
       "<polygon fill=\"#e8e8e8\" stroke=\"#000000\" points=\"4469,-62 4415,-62 4415,-26 4469,-26 4469,-62\"/>\n",
       "<text text-anchor=\"start\" x=\"4433\" y=\"-41\" font-family=\"Times\" font-size=\"10.00\" fill=\"#000000\">Add</text>\n",
       "</g>\n",
       "<!-- /outputs/217&#45;&gt;/outputs/231 -->\n",
       "<g id=\"edge9\" class=\"edge\">\n",
       "<title>/outputs/217&#45;&gt;/outputs/231</title>\n",
       "<path fill=\"none\" stroke=\"#000000\" d=\"M3912.4765,-50.3887C3918.2345,-51.4755 3924.2915,-52.4347 3930,-53 3958.306,-55.8028 3965.5556,-53.0706 3994,-53 4173.1128,-52.5556 4218.4544,-65.2496 4397,-51 4399.5516,-50.7964 4402.1775,-50.5323 4404.8182,-50.2263\"/>\n",
       "<polygon fill=\"#000000\" stroke=\"#000000\" points=\"4405.4991,-53.6666 4414.9498,-48.8777 4404.5754,-46.7278 4405.4991,-53.6666\"/>\n",
       "<text text-anchor=\"middle\" x=\"4202\" y=\"-61\" font-family=\"Times\" font-size=\"10.00\" fill=\"#000000\">64x256x17x17</text>\n",
       "</g>\n",
       "<!-- 11190544446671882746 -->\n",
       "<g id=\"node27\" class=\"node\">\n",
       "<title>11190544446671882746</title>\n",
       "<polygon fill=\"#e8e8e8\" stroke=\"#000000\" points=\"4152,-39 4012,-39 4012,-3 4152,-3 4152,-39\"/>\n",
       "<text text-anchor=\"start\" x=\"4020\" y=\"-18\" font-family=\"Times\" font-size=\"10.00\" fill=\"#000000\">Conv3x3 &gt; BatchNorm &gt; Relu</text>\n",
       "</g>\n",
       "<!-- /outputs/217&#45;&gt;11190544446671882746 -->\n",
       "<g id=\"edge23\" class=\"edge\">\n",
       "<title>/outputs/217&#45;&gt;11190544446671882746</title>\n",
       "<path fill=\"none\" stroke=\"#000000\" d=\"M3912.392,-40.8019C3935.4785,-38.1066 3969.7241,-34.1084 4001.4107,-30.4089\"/>\n",
       "<polygon fill=\"#000000\" stroke=\"#000000\" points=\"4002.0646,-33.8564 4011.5913,-29.2203 4001.2528,-26.9036 4002.0646,-33.8564\"/>\n",
       "<text text-anchor=\"middle\" x=\"3962\" y=\"-42\" font-family=\"Times\" font-size=\"10.00\" fill=\"#000000\">64x256x17x17</text>\n",
       "</g>\n",
       "<!-- /outputs/232 -->\n",
       "<g id=\"node13\" class=\"node\">\n",
       "<title>/outputs/232</title>\n",
       "<polygon fill=\"#e8e8e8\" stroke=\"#000000\" points=\"4623,-62 4569,-62 4569,-26 4623,-26 4623,-62\"/>\n",
       "<text text-anchor=\"start\" x=\"4586\" y=\"-41\" font-family=\"Times\" font-size=\"10.00\" fill=\"#000000\">Relu</text>\n",
       "</g>\n",
       "<!-- /outputs/231&#45;&gt;/outputs/232 -->\n",
       "<g id=\"edge10\" class=\"edge\">\n",
       "<title>/outputs/231&#45;&gt;/outputs/232</title>\n",
       "<path fill=\"none\" stroke=\"#000000\" d=\"M4469.1776,-44C4494.0618,-44 4531.112,-44 4558.7492,-44\"/>\n",
       "<polygon fill=\"#000000\" stroke=\"#000000\" points=\"4558.8355,-47.5001 4568.8355,-44 4558.8355,-40.5001 4558.8355,-47.5001\"/>\n",
       "<text text-anchor=\"middle\" x=\"4519\" y=\"-47\" font-family=\"Times\" font-size=\"10.00\" fill=\"#000000\">64x256x17x17</text>\n",
       "</g>\n",
       "<!-- 11461012580996237213 -->\n",
       "<g id=\"node28\" class=\"node\">\n",
       "<title>11461012580996237213</title>\n",
       "<polygon fill=\"#e8e8e8\" stroke=\"#000000\" points=\"4863,-91 4723,-91 4723,-55 4863,-55 4863,-91\"/>\n",
       "<text text-anchor=\"start\" x=\"4731\" y=\"-70\" font-family=\"Times\" font-size=\"10.00\" fill=\"#000000\">Conv3x3 &gt; BatchNorm &gt; Relu</text>\n",
       "</g>\n",
       "<!-- /outputs/232&#45;&gt;11461012580996237213 -->\n",
       "<g id=\"edge24\" class=\"edge\">\n",
       "<title>/outputs/232&#45;&gt;11461012580996237213</title>\n",
       "<path fill=\"none\" stroke=\"#000000\" d=\"M4623.392,-48.0323C4646.4785,-51.4308 4680.7241,-56.4721 4712.4107,-61.1366\"/>\n",
       "<polygon fill=\"#000000\" stroke=\"#000000\" points=\"4712.1881,-64.6415 4722.5913,-62.6353 4713.2076,-57.7161 4712.1881,-64.6415\"/>\n",
       "<text text-anchor=\"middle\" x=\"4673\" y=\"-63\" font-family=\"Times\" font-size=\"10.00\" fill=\"#000000\">64x256x17x17</text>\n",
       "</g>\n",
       "<!-- 14943804658061043563 -->\n",
       "<g id=\"node39\" class=\"node\">\n",
       "<title>14943804658061043563</title>\n",
       "<polygon fill=\"#e8e8e8\" stroke=\"#000000\" points=\"4992,-45 4881,-45 4881,-9 4992,-9 4992,-45\"/>\n",
       "<text text-anchor=\"start\" x=\"4889.5\" y=\"-24\" font-family=\"Times\" font-size=\"10.00\" fill=\"#000000\">Conv1x1 &gt; BatchNorm</text>\n",
       "</g>\n",
       "<!-- /outputs/232&#45;&gt;14943804658061043563 -->\n",
       "<g id=\"edge44\" class=\"edge\">\n",
       "<title>/outputs/232&#45;&gt;14943804658061043563</title>\n",
       "<path fill=\"none\" stroke=\"#000000\" d=\"M4623.0613,-39.2499C4628.9576,-38.3663 4635.1751,-37.5496 4641,-37 4719.7448,-29.5703 4810.7511,-27.4616 4870.7307,-26.9602\"/>\n",
       "<polygon fill=\"#000000\" stroke=\"#000000\" points=\"4870.8456,-30.4596 4880.8205,-26.8886 4870.7959,-23.4597 4870.8456,-30.4596\"/>\n",
       "<text text-anchor=\"middle\" x=\"4673\" y=\"-40\" font-family=\"Times\" font-size=\"10.00\" fill=\"#000000\">64x256x17x17</text>\n",
       "</g>\n",
       "<!-- /outputs/252 -->\n",
       "<g id=\"node14\" class=\"node\">\n",
       "<title>/outputs/252</title>\n",
       "<polygon fill=\"#e8e8e8\" stroke=\"#000000\" points=\"5227,-61 5173,-61 5173,-25 5227,-25 5227,-61\"/>\n",
       "<text text-anchor=\"start\" x=\"5191\" y=\"-40\" font-family=\"Times\" font-size=\"10.00\" fill=\"#000000\">Add</text>\n",
       "</g>\n",
       "<!-- /outputs/253 -->\n",
       "<g id=\"node15\" class=\"node\">\n",
       "<title>/outputs/253</title>\n",
       "<polygon fill=\"#e8e8e8\" stroke=\"#000000\" points=\"5370,-61 5316,-61 5316,-25 5370,-25 5370,-61\"/>\n",
       "<text text-anchor=\"start\" x=\"5333\" y=\"-40\" font-family=\"Times\" font-size=\"10.00\" fill=\"#000000\">Relu</text>\n",
       "</g>\n",
       "<!-- /outputs/252&#45;&gt;/outputs/253 -->\n",
       "<g id=\"edge11\" class=\"edge\">\n",
       "<title>/outputs/252&#45;&gt;/outputs/253</title>\n",
       "<path fill=\"none\" stroke=\"#000000\" d=\"M5227.2338,-43C5249.4983,-43 5281.2039,-43 5305.8066,-43\"/>\n",
       "<polygon fill=\"#000000\" stroke=\"#000000\" points=\"5305.8676,-46.5001 5315.8676,-43 5305.8676,-39.5001 5305.8676,-46.5001\"/>\n",
       "<text text-anchor=\"middle\" x=\"5271.5\" y=\"-46\" font-family=\"Times\" font-size=\"10.00\" fill=\"#000000\">64x512x9x9</text>\n",
       "</g>\n",
       "<!-- /outputs/267 -->\n",
       "<g id=\"node16\" class=\"node\">\n",
       "<title>/outputs/267</title>\n",
       "<polygon fill=\"#e8e8e8\" stroke=\"#000000\" points=\"5905,-61 5851,-61 5851,-25 5905,-25 5905,-61\"/>\n",
       "<text text-anchor=\"start\" x=\"5869\" y=\"-40\" font-family=\"Times\" font-size=\"10.00\" fill=\"#000000\">Add</text>\n",
       "</g>\n",
       "<!-- /outputs/253&#45;&gt;/outputs/267 -->\n",
       "<g id=\"edge12\" class=\"edge\">\n",
       "<title>/outputs/253&#45;&gt;/outputs/267</title>\n",
       "<path fill=\"none\" stroke=\"#000000\" d=\"M5370.4765,-49.3887C5376.2345,-50.4755 5382.2915,-51.4347 5388,-52 5411.4409,-54.3211 5417.4445,-52.0601 5441,-52 5615.2239,-51.5556 5659.3287,-63.8728 5833,-50 5835.5516,-49.7962 5838.1775,-49.532 5840.8181,-49.2259\"/>\n",
       "<polygon fill=\"#000000\" stroke=\"#000000\" points=\"5841.4991,-52.6662 5850.9498,-47.877 5840.5753,-45.7274 5841.4991,-52.6662\"/>\n",
       "<text text-anchor=\"middle\" x=\"5643.5\" y=\"-60\" font-family=\"Times\" font-size=\"10.00\" fill=\"#000000\">64x512x9x9</text>\n",
       "</g>\n",
       "<!-- 14757499894443437890 -->\n",
       "<g id=\"node29\" class=\"node\">\n",
       "<title>14757499894443437890</title>\n",
       "<polygon fill=\"#e8e8e8\" stroke=\"#000000\" points=\"5599,-38 5459,-38 5459,-2 5599,-2 5599,-38\"/>\n",
       "<text text-anchor=\"start\" x=\"5467\" y=\"-17\" font-family=\"Times\" font-size=\"10.00\" fill=\"#000000\">Conv3x3 &gt; BatchNorm &gt; Relu</text>\n",
       "</g>\n",
       "<!-- /outputs/253&#45;&gt;14757499894443437890 -->\n",
       "<g id=\"edge25\" class=\"edge\">\n",
       "<title>/outputs/253&#45;&gt;14757499894443437890</title>\n",
       "<path fill=\"none\" stroke=\"#000000\" d=\"M5370.046,-39.6556C5390.7748,-37.0924 5420.5101,-33.4154 5448.667,-29.9337\"/>\n",
       "<polygon fill=\"#000000\" stroke=\"#000000\" points=\"5449.4547,-33.363 5458.9495,-28.6622 5448.5956,-26.4159 5449.4547,-33.363\"/>\n",
       "<text text-anchor=\"middle\" x=\"5414.5\" y=\"-40\" font-family=\"Times\" font-size=\"10.00\" fill=\"#000000\">64x512x9x9</text>\n",
       "</g>\n",
       "<!-- /outputs/268 -->\n",
       "<g id=\"node17\" class=\"node\">\n",
       "<title>/outputs/268</title>\n",
       "<polygon fill=\"#e8e8e8\" stroke=\"#000000\" points=\"6048,-61 5994,-61 5994,-25 6048,-25 6048,-61\"/>\n",
       "<text text-anchor=\"start\" x=\"6011\" y=\"-40\" font-family=\"Times\" font-size=\"10.00\" fill=\"#000000\">Relu</text>\n",
       "</g>\n",
       "<!-- /outputs/267&#45;&gt;/outputs/268 -->\n",
       "<g id=\"edge13\" class=\"edge\">\n",
       "<title>/outputs/267&#45;&gt;/outputs/268</title>\n",
       "<path fill=\"none\" stroke=\"#000000\" d=\"M5905.2338,-43C5927.4983,-43 5959.2039,-43 5983.8066,-43\"/>\n",
       "<polygon fill=\"#000000\" stroke=\"#000000\" points=\"5983.8676,-46.5001 5993.8676,-43 5983.8676,-39.5001 5983.8676,-46.5001\"/>\n",
       "<text text-anchor=\"middle\" x=\"5949.5\" y=\"-46\" font-family=\"Times\" font-size=\"10.00\" fill=\"#000000\">64x512x9x9</text>\n",
       "</g>\n",
       "<!-- /outputs/269 -->\n",
       "<g id=\"node18\" class=\"node\">\n",
       "<title>/outputs/269</title>\n",
       "<polygon fill=\"#e8e8e8\" stroke=\"#000000\" points=\"6233,-61 6137,-61 6137,-25 6233,-25 6233,-61\"/>\n",
       "<text text-anchor=\"start\" x=\"6145\" y=\"-40\" font-family=\"Times\" font-size=\"10.00\" fill=\"#000000\">GlobalAveragePool</text>\n",
       "</g>\n",
       "<!-- /outputs/268&#45;&gt;/outputs/269 -->\n",
       "<g id=\"edge14\" class=\"edge\">\n",
       "<title>/outputs/268&#45;&gt;/outputs/269</title>\n",
       "<path fill=\"none\" stroke=\"#000000\" d=\"M6048.0813,-43C6069.4593,-43 6100.054,-43 6126.9026,-43\"/>\n",
       "<polygon fill=\"#000000\" stroke=\"#000000\" points=\"6126.9821,-46.5001 6136.9821,-43 6126.9821,-39.5001 6126.9821,-46.5001\"/>\n",
       "<text text-anchor=\"middle\" x=\"6092.5\" y=\"-46\" font-family=\"Times\" font-size=\"10.00\" fill=\"#000000\">64x512x9x9</text>\n",
       "</g>\n",
       "<!-- /outputs/270 -->\n",
       "<g id=\"node19\" class=\"node\">\n",
       "<title>/outputs/270</title>\n",
       "<polygon fill=\"#e8e8e8\" stroke=\"#000000\" points=\"6376,-61 6322,-61 6322,-25 6376,-25 6376,-61\"/>\n",
       "<text text-anchor=\"start\" x=\"6335\" y=\"-40\" font-family=\"Times\" font-size=\"10.00\" fill=\"#000000\">Flatten</text>\n",
       "</g>\n",
       "<!-- /outputs/269&#45;&gt;/outputs/270 -->\n",
       "<g id=\"edge15\" class=\"edge\">\n",
       "<title>/outputs/269&#45;&gt;/outputs/270</title>\n",
       "<path fill=\"none\" stroke=\"#000000\" d=\"M6233.3184,-43C6258.3907,-43 6288.5478,-43 6311.7842,-43\"/>\n",
       "<polygon fill=\"#000000\" stroke=\"#000000\" points=\"6311.9303,-46.5001 6321.9302,-43 6311.9302,-39.5001 6311.9303,-46.5001\"/>\n",
       "<text text-anchor=\"middle\" x=\"6277.5\" y=\"-46\" font-family=\"Times\" font-size=\"10.00\" fill=\"#000000\">64x512x1x1</text>\n",
       "</g>\n",
       "<!-- /outputs/271 -->\n",
       "<g id=\"node20\" class=\"node\">\n",
       "<title>/outputs/271</title>\n",
       "<polygon fill=\"#e8e8e8\" stroke=\"#000000\" points=\"6498,-61 6444,-61 6444,-25 6498,-25 6498,-61\"/>\n",
       "<text text-anchor=\"start\" x=\"6458\" y=\"-40\" font-family=\"Times\" font-size=\"10.00\" fill=\"#000000\">Linear</text>\n",
       "</g>\n",
       "<!-- /outputs/270&#45;&gt;/outputs/271 -->\n",
       "<g id=\"edge16\" class=\"edge\">\n",
       "<title>/outputs/270&#45;&gt;/outputs/271</title>\n",
       "<path fill=\"none\" stroke=\"#000000\" d=\"M6376.0758,-43C6393.0553,-43 6415.1767,-43 6433.7924,-43\"/>\n",
       "<polygon fill=\"#000000\" stroke=\"#000000\" points=\"6434,-46.5001 6443.9999,-43 6433.9999,-39.5001 6434,-46.5001\"/>\n",
       "<text text-anchor=\"middle\" x=\"6410\" y=\"-46\" font-family=\"Times\" font-size=\"10.00\" fill=\"#000000\">64x512</text>\n",
       "</g>\n",
       "<!-- 13639541523999449320 -->\n",
       "<g id=\"node21\" class=\"node\">\n",
       "<title>13639541523999449320</title>\n",
       "<polygon fill=\"#e8e8e8\" stroke=\"#000000\" points=\"140,-79 0,-79 0,-43 140,-43 140,-79\"/>\n",
       "<text text-anchor=\"start\" x=\"8\" y=\"-58\" font-family=\"Times\" font-size=\"10.00\" fill=\"#000000\">Conv7x7 &gt; BatchNorm &gt; Relu</text>\n",
       "</g>\n",
       "<!-- 13639541523999449320&#45;&gt;/outputs/130 -->\n",
       "<g id=\"edge17\" class=\"edge\">\n",
       "<title>13639541523999449320&#45;&gt;/outputs/130</title>\n",
       "<path fill=\"none\" stroke=\"#000000\" d=\"M140.2189,-61C171.4087,-61 207.2145,-61 234.7784,-61\"/>\n",
       "<polygon fill=\"#000000\" stroke=\"#000000\" points=\"234.9122,-64.5001 244.9122,-61 234.9121,-57.5001 234.9122,-64.5001\"/>\n",
       "<text text-anchor=\"middle\" x=\"192.5\" y=\"-64\" font-family=\"Times\" font-size=\"10.00\" fill=\"#000000\">64x64x132x132</text>\n",
       "</g>\n",
       "<!-- 13476218424928113542 -->\n",
       "<g id=\"node30\" class=\"node\">\n",
       "<title>13476218424928113542</title>\n",
       "<polygon fill=\"#e8e8e8\" stroke=\"#000000\" points=\"754,-46 643,-46 643,-10 754,-10 754,-46\"/>\n",
       "<text text-anchor=\"start\" x=\"651.5\" y=\"-25\" font-family=\"Times\" font-size=\"10.00\" fill=\"#000000\">Conv3x3 &gt; BatchNorm</text>\n",
       "</g>\n",
       "<!-- 7928694503640722362&#45;&gt;13476218424928113542 -->\n",
       "<g id=\"edge26\" class=\"edge\">\n",
       "<title>7928694503640722362&#45;&gt;13476218424928113542</title>\n",
       "<path fill=\"none\" stroke=\"#000000\" d=\"M549.0547,-28C575.8591,-28 606.3145,-28 632.7071,-28\"/>\n",
       "<polygon fill=\"#000000\" stroke=\"#000000\" points=\"632.9846,-31.5001 642.9846,-28 632.9845,-24.5001 632.9846,-31.5001\"/>\n",
       "<text text-anchor=\"middle\" x=\"596\" y=\"-31\" font-family=\"Times\" font-size=\"10.00\" fill=\"#000000\">64x64x66x66</text>\n",
       "</g>\n",
       "<!-- 4417571752280702305 -->\n",
       "<g id=\"node31\" class=\"node\">\n",
       "<title>4417571752280702305</title>\n",
       "<polygon fill=\"#e8e8e8\" stroke=\"#000000\" points=\"1442,-36 1331,-36 1331,0 1442,0 1442,-36\"/>\n",
       "<text text-anchor=\"start\" x=\"1339.5\" y=\"-15\" font-family=\"Times\" font-size=\"10.00\" fill=\"#000000\">Conv3x3 &gt; BatchNorm</text>\n",
       "</g>\n",
       "<!-- 5085823260727969576&#45;&gt;4417571752280702305 -->\n",
       "<g id=\"edge28\" class=\"edge\">\n",
       "<title>5085823260727969576&#45;&gt;4417571752280702305</title>\n",
       "<path fill=\"none\" stroke=\"#000000\" d=\"M1237.0547,-18C1263.8591,-18 1294.3145,-18 1320.7071,-18\"/>\n",
       "<polygon fill=\"#000000\" stroke=\"#000000\" points=\"1320.9846,-21.5001 1330.9846,-18 1320.9845,-14.5001 1320.9846,-21.5001\"/>\n",
       "<text text-anchor=\"middle\" x=\"1284\" y=\"-21\" font-family=\"Times\" font-size=\"10.00\" fill=\"#000000\">64x64x66x66</text>\n",
       "</g>\n",
       "<!-- 17183055007208874510 -->\n",
       "<g id=\"node32\" class=\"node\">\n",
       "<title>17183055007208874510</title>\n",
       "<polygon fill=\"#e8e8e8\" stroke=\"#000000\" points=\"2183,-94 2072,-94 2072,-58 2183,-58 2183,-94\"/>\n",
       "<text text-anchor=\"start\" x=\"2080.5\" y=\"-73\" font-family=\"Times\" font-size=\"10.00\" fill=\"#000000\">Conv3x3 &gt; BatchNorm</text>\n",
       "</g>\n",
       "<!-- 17068650480719868881&#45;&gt;17183055007208874510 -->\n",
       "<g id=\"edge30\" class=\"edge\">\n",
       "<title>17068650480719868881&#45;&gt;17183055007208874510</title>\n",
       "<path fill=\"none\" stroke=\"#000000\" d=\"M1925.1755,-75.2575C1967.1889,-75.4117 2020.2618,-75.6065 2061.5086,-75.7578\"/>\n",
       "<polygon fill=\"#000000\" stroke=\"#000000\" points=\"2061.7135,-79.2585 2071.7263,-75.7953 2061.7392,-72.2586 2061.7135,-79.2585\"/>\n",
       "<text text-anchor=\"middle\" x=\"1998.5\" y=\"-78\" font-family=\"Times\" font-size=\"10.00\" fill=\"#000000\">64x128x33x33</text>\n",
       "</g>\n",
       "<!-- 14783678651579879140 -->\n",
       "<g id=\"node34\" class=\"node\">\n",
       "<title>14783678651579879140</title>\n",
       "<polygon fill=\"#e8e8e8\" stroke=\"#000000\" points=\"2894,-40 2783,-40 2783,-4 2894,-4 2894,-40\"/>\n",
       "<text text-anchor=\"start\" x=\"2791.5\" y=\"-19\" font-family=\"Times\" font-size=\"10.00\" fill=\"#000000\">Conv3x3 &gt; BatchNorm</text>\n",
       "</g>\n",
       "<!-- 11163753751487310383&#45;&gt;14783678651579879140 -->\n",
       "<g id=\"edge34\" class=\"edge\">\n",
       "<title>11163753751487310383&#45;&gt;14783678651579879140</title>\n",
       "<path fill=\"none\" stroke=\"#000000\" d=\"M2683.1135,-22C2711.6702,-22 2744.5063,-22 2772.615,-22\"/>\n",
       "<polygon fill=\"#000000\" stroke=\"#000000\" points=\"2772.7404,-25.5001 2782.7403,-22 2772.7403,-18.5001 2772.7404,-25.5001\"/>\n",
       "<text text-anchor=\"middle\" x=\"2733\" y=\"-25\" font-family=\"Times\" font-size=\"10.00\" fill=\"#000000\">64x128x33x33</text>\n",
       "</g>\n",
       "<!-- 8188947859399890956 -->\n",
       "<g id=\"node35\" class=\"node\">\n",
       "<title>8188947859399890956</title>\n",
       "<polygon fill=\"#e8e8e8\" stroke=\"#000000\" points=\"3652,-93 3541,-93 3541,-57 3652,-57 3652,-93\"/>\n",
       "<text text-anchor=\"start\" x=\"3549.5\" y=\"-72\" font-family=\"Times\" font-size=\"10.00\" fill=\"#000000\">Conv3x3 &gt; BatchNorm</text>\n",
       "</g>\n",
       "<!-- 10649982311867300868&#45;&gt;8188947859399890956 -->\n",
       "<g id=\"edge36\" class=\"edge\">\n",
       "<title>10649982311867300868&#45;&gt;8188947859399890956</title>\n",
       "<path fill=\"none\" stroke=\"#000000\" d=\"M3394.1755,-74.2575C3436.1889,-74.4117 3489.2618,-74.6065 3530.5086,-74.7578\"/>\n",
       "<polygon fill=\"#000000\" stroke=\"#000000\" points=\"3530.7135,-78.2585 3540.7263,-74.7953 3530.7392,-71.2586 3530.7135,-78.2585\"/>\n",
       "<text text-anchor=\"middle\" x=\"3467.5\" y=\"-77\" font-family=\"Times\" font-size=\"10.00\" fill=\"#000000\">64x256x17x17</text>\n",
       "</g>\n",
       "<!-- 15174801258338395038 -->\n",
       "<g id=\"node37\" class=\"node\">\n",
       "<title>15174801258338395038</title>\n",
       "<polygon fill=\"#e8e8e8\" stroke=\"#000000\" points=\"4363,-39 4252,-39 4252,-3 4363,-3 4363,-39\"/>\n",
       "<text text-anchor=\"start\" x=\"4260.5\" y=\"-18\" font-family=\"Times\" font-size=\"10.00\" fill=\"#000000\">Conv3x3 &gt; BatchNorm</text>\n",
       "</g>\n",
       "<!-- 11190544446671882746&#45;&gt;15174801258338395038 -->\n",
       "<g id=\"edge40\" class=\"edge\">\n",
       "<title>11190544446671882746&#45;&gt;15174801258338395038</title>\n",
       "<path fill=\"none\" stroke=\"#000000\" d=\"M4152.1135,-21C4180.6702,-21 4213.5063,-21 4241.615,-21\"/>\n",
       "<polygon fill=\"#000000\" stroke=\"#000000\" points=\"4241.7404,-24.5001 4251.7403,-21 4241.7403,-17.5001 4241.7404,-24.5001\"/>\n",
       "<text text-anchor=\"middle\" x=\"4202\" y=\"-24\" font-family=\"Times\" font-size=\"10.00\" fill=\"#000000\">64x256x17x17</text>\n",
       "</g>\n",
       "<!-- 13052534785609664979 -->\n",
       "<g id=\"node38\" class=\"node\">\n",
       "<title>13052534785609664979</title>\n",
       "<polygon fill=\"#e8e8e8\" stroke=\"#000000\" points=\"5121,-92 5010,-92 5010,-56 5121,-56 5121,-92\"/>\n",
       "<text text-anchor=\"start\" x=\"5018.5\" y=\"-71\" font-family=\"Times\" font-size=\"10.00\" fill=\"#000000\">Conv3x3 &gt; BatchNorm</text>\n",
       "</g>\n",
       "<!-- 11461012580996237213&#45;&gt;13052534785609664979 -->\n",
       "<g id=\"edge42\" class=\"edge\">\n",
       "<title>11461012580996237213&#45;&gt;13052534785609664979</title>\n",
       "<path fill=\"none\" stroke=\"#000000\" d=\"M4863.1755,-73.2575C4905.1889,-73.4117 4958.2618,-73.6065 4999.5086,-73.7578\"/>\n",
       "<polygon fill=\"#000000\" stroke=\"#000000\" points=\"4999.7135,-77.2585 5009.7263,-73.7953 4999.7392,-70.2586 4999.7135,-77.2585\"/>\n",
       "<text text-anchor=\"middle\" x=\"4936.5\" y=\"-76\" font-family=\"Times\" font-size=\"10.00\" fill=\"#000000\">64x512x9x9</text>\n",
       "</g>\n",
       "<!-- 6722701944919323777 -->\n",
       "<g id=\"node40\" class=\"node\">\n",
       "<title>6722701944919323777</title>\n",
       "<polygon fill=\"#e8e8e8\" stroke=\"#000000\" points=\"5799,-38 5688,-38 5688,-2 5799,-2 5799,-38\"/>\n",
       "<text text-anchor=\"start\" x=\"5696.5\" y=\"-17\" font-family=\"Times\" font-size=\"10.00\" fill=\"#000000\">Conv3x3 &gt; BatchNorm</text>\n",
       "</g>\n",
       "<!-- 14757499894443437890&#45;&gt;6722701944919323777 -->\n",
       "<g id=\"edge46\" class=\"edge\">\n",
       "<title>14757499894443437890&#45;&gt;6722701944919323777</title>\n",
       "<path fill=\"none\" stroke=\"#000000\" d=\"M5599.2353,-20C5624.4712,-20 5652.8234,-20 5677.671,-20\"/>\n",
       "<polygon fill=\"#000000\" stroke=\"#000000\" points=\"5677.7245,-23.5001 5687.7244,-20 5677.7244,-16.5001 5677.7245,-23.5001\"/>\n",
       "<text text-anchor=\"middle\" x=\"5643.5\" y=\"-23\" font-family=\"Times\" font-size=\"10.00\" fill=\"#000000\">64x512x9x9</text>\n",
       "</g>\n",
       "<!-- 13476218424928113542&#45;&gt;/outputs/144 -->\n",
       "<g id=\"edge27\" class=\"edge\">\n",
       "<title>13476218424928113542&#45;&gt;/outputs/144</title>\n",
       "<path fill=\"none\" stroke=\"#000000\" d=\"M754.1712,-37.8876C766.5578,-40.0875 779.3966,-42.3677 790.8258,-44.3976\"/>\n",
       "<polygon fill=\"#000000\" stroke=\"#000000\" points=\"790.4143,-47.8792 800.8723,-46.1819 791.6384,-40.9871 790.4143,-47.8792\"/>\n",
       "<text text-anchor=\"middle\" x=\"777.5\" y=\"-46\" font-family=\"Times\" font-size=\"10.00\" fill=\"#000000\">64</text>\n",
       "</g>\n",
       "<!-- 4417571752280702305&#45;&gt;/outputs/159 -->\n",
       "<g id=\"edge29\" class=\"edge\">\n",
       "<title>4417571752280702305&#45;&gt;/outputs/159</title>\n",
       "<path fill=\"none\" stroke=\"#000000\" d=\"M1442.1712,-30.037C1454.5578,-32.7152 1467.3966,-35.4912 1478.8258,-37.9623\"/>\n",
       "<polygon fill=\"#000000\" stroke=\"#000000\" points=\"1478.3584,-41.4421 1488.8723,-40.1345 1479.8378,-34.6002 1478.3584,-41.4421\"/>\n",
       "<text text-anchor=\"middle\" x=\"1465.5\" y=\"-40\" font-family=\"Times\" font-size=\"10.00\" fill=\"#000000\">64</text>\n",
       "</g>\n",
       "<!-- 17183055007208874510&#45;&gt;/outputs/180 -->\n",
       "<g id=\"edge31\" class=\"edge\">\n",
       "<title>17183055007208874510&#45;&gt;/outputs/180</title>\n",
       "<path fill=\"none\" stroke=\"#000000\" d=\"M2183.3716,-63.1225C2197.3815,-59.8935 2212.07,-56.508 2224.9088,-53.5489\"/>\n",
       "<polygon fill=\"#000000\" stroke=\"#000000\" points=\"2225.802,-56.9349 2234.7604,-51.2783 2224.2298,-50.1137 2225.802,-56.9349\"/>\n",
       "<text text-anchor=\"middle\" x=\"2209\" y=\"-62\" font-family=\"Times\" font-size=\"10.00\" fill=\"#000000\">128</text>\n",
       "</g>\n",
       "<!-- 15262805781635894267&#45;&gt;/outputs/180 -->\n",
       "<g id=\"edge33\" class=\"edge\">\n",
       "<title>15262805781635894267&#45;&gt;/outputs/180</title>\n",
       "<path fill=\"none\" stroke=\"#000000\" d=\"M2054.2424,-31.1435C2090.8623,-32.6935 2139.8081,-35.0341 2183,-38 2196.6573,-38.9378 2211.6219,-40.203 2224.8186,-41.3998\"/>\n",
       "<polygon fill=\"#000000\" stroke=\"#000000\" points=\"2224.6846,-44.9023 2234.9643,-42.3374 2225.3288,-37.932 2224.6846,-44.9023\"/>\n",
       "<text text-anchor=\"middle\" x=\"2127.5\" y=\"-41\" font-family=\"Times\" font-size=\"10.00\" fill=\"#000000\">128</text>\n",
       "</g>\n",
       "<!-- 14783678651579879140&#45;&gt;/outputs/195 -->\n",
       "<g id=\"edge35\" class=\"edge\">\n",
       "<title>14783678651579879140&#45;&gt;/outputs/195</title>\n",
       "<path fill=\"none\" stroke=\"#000000\" d=\"M2894.3716,-31.5543C2908.2428,-33.9263 2922.7792,-36.412 2935.5269,-38.592\"/>\n",
       "<polygon fill=\"#000000\" stroke=\"#000000\" points=\"2935.3135,-42.1062 2945.7604,-40.3419 2936.4935,-35.2064 2935.3135,-42.1062\"/>\n",
       "<text text-anchor=\"middle\" x=\"2920\" y=\"-40\" font-family=\"Times\" font-size=\"10.00\" fill=\"#000000\">128</text>\n",
       "</g>\n",
       "<!-- 8188947859399890956&#45;&gt;/outputs/216 -->\n",
       "<g id=\"edge37\" class=\"edge\">\n",
       "<title>8188947859399890956&#45;&gt;/outputs/216</title>\n",
       "<path fill=\"none\" stroke=\"#000000\" d=\"M3652.3716,-62.1225C3666.3815,-58.8935 3681.07,-55.508 3693.9088,-52.5489\"/>\n",
       "<polygon fill=\"#000000\" stroke=\"#000000\" points=\"3694.802,-55.9349 3703.7604,-50.2783 3693.2298,-49.1137 3694.802,-55.9349\"/>\n",
       "<text text-anchor=\"middle\" x=\"3678\" y=\"-61\" font-family=\"Times\" font-size=\"10.00\" fill=\"#000000\">256</text>\n",
       "</g>\n",
       "<!-- 15832368889612550563&#45;&gt;/outputs/216 -->\n",
       "<g id=\"edge39\" class=\"edge\">\n",
       "<title>15832368889612550563&#45;&gt;/outputs/216</title>\n",
       "<path fill=\"none\" stroke=\"#000000\" d=\"M3523.2424,-30.1435C3559.8623,-31.6935 3608.8081,-34.0341 3652,-37 3665.6573,-37.9378 3680.6219,-39.203 3693.8186,-40.3998\"/>\n",
       "<polygon fill=\"#000000\" stroke=\"#000000\" points=\"3693.6846,-43.9023 3703.9643,-41.3374 3694.3288,-36.932 3693.6846,-43.9023\"/>\n",
       "<text text-anchor=\"middle\" x=\"3596.5\" y=\"-40\" font-family=\"Times\" font-size=\"10.00\" fill=\"#000000\">256</text>\n",
       "</g>\n",
       "<!-- 15174801258338395038&#45;&gt;/outputs/231 -->\n",
       "<g id=\"edge41\" class=\"edge\">\n",
       "<title>15174801258338395038&#45;&gt;/outputs/231</title>\n",
       "<path fill=\"none\" stroke=\"#000000\" d=\"M4363.3716,-30.5543C4377.2428,-32.9263 4391.7792,-35.412 4404.5269,-37.592\"/>\n",
       "<polygon fill=\"#000000\" stroke=\"#000000\" points=\"4404.3135,-41.1062 4414.7604,-39.3419 4405.4935,-34.2064 4404.3135,-41.1062\"/>\n",
       "<text text-anchor=\"middle\" x=\"4389\" y=\"-39\" font-family=\"Times\" font-size=\"10.00\" fill=\"#000000\">256</text>\n",
       "</g>\n",
       "<!-- 13052534785609664979&#45;&gt;/outputs/252 -->\n",
       "<g id=\"edge43\" class=\"edge\">\n",
       "<title>13052534785609664979&#45;&gt;/outputs/252</title>\n",
       "<path fill=\"none\" stroke=\"#000000\" d=\"M5121.3716,-61.1225C5135.3815,-57.8935 5150.07,-54.508 5162.9088,-51.5489\"/>\n",
       "<polygon fill=\"#000000\" stroke=\"#000000\" points=\"5163.802,-54.9349 5172.7604,-49.2783 5162.2298,-48.1137 5163.802,-54.9349\"/>\n",
       "<text text-anchor=\"middle\" x=\"5147\" y=\"-60\" font-family=\"Times\" font-size=\"10.00\" fill=\"#000000\">512</text>\n",
       "</g>\n",
       "<!-- 14943804658061043563&#45;&gt;/outputs/252 -->\n",
       "<g id=\"edge45\" class=\"edge\">\n",
       "<title>14943804658061043563&#45;&gt;/outputs/252</title>\n",
       "<path fill=\"none\" stroke=\"#000000\" d=\"M4992.2424,-29.1435C5028.8623,-30.6935 5077.8081,-33.0341 5121,-36 5134.6573,-36.9378 5149.6219,-38.203 5162.8186,-39.3998\"/>\n",
       "<polygon fill=\"#000000\" stroke=\"#000000\" points=\"5162.6846,-42.9023 5172.9643,-40.3374 5163.3288,-35.932 5162.6846,-42.9023\"/>\n",
       "<text text-anchor=\"middle\" x=\"5065.5\" y=\"-39\" font-family=\"Times\" font-size=\"10.00\" fill=\"#000000\">512</text>\n",
       "</g>\n",
       "<!-- 6722701944919323777&#45;&gt;/outputs/267 -->\n",
       "<g id=\"edge47\" class=\"edge\">\n",
       "<title>6722701944919323777&#45;&gt;/outputs/267</title>\n",
       "<path fill=\"none\" stroke=\"#000000\" d=\"M5799.3716,-29.5543C5813.2428,-31.9263 5827.7792,-34.412 5840.5269,-36.592\"/>\n",
       "<polygon fill=\"#000000\" stroke=\"#000000\" points=\"5840.3135,-40.1062 5850.7604,-38.3419 5841.4935,-33.2064 5840.3135,-40.1062\"/>\n",
       "<text text-anchor=\"middle\" x=\"5825\" y=\"-38\" font-family=\"Times\" font-size=\"10.00\" fill=\"#000000\">512</text>\n",
       "</g>\n",
       "</g>\n",
       "</svg>\n"
      ],
      "text/plain": [
       "<hiddenlayer.graph.Graph at 0x7f1b35d3a790>"
      ]
     },
     "execution_count": 68,
     "metadata": {},
     "output_type": "execute_result"
    }
   ],
   "source": [
    "hl.build_graph(model_resnet18, torch.zeros([64,3,264,264]))"
   ]
  },
  {
   "cell_type": "markdown",
   "metadata": {
    "id": "cFMlKdRWB-ux"
   },
   "source": [
    "*** "
   ]
  }
 ],
 "metadata": {
  "accelerator": "GPU",
  "colab": {
   "collapsed_sections": [
    "Yfd2jzHgoKzx"
   ],
   "name": "Reto_WhaleAndJaguar.ipynb",
   "provenance": []
  },
  "kernelspec": {
   "display_name": "Python 3",
   "language": "python",
   "name": "python3"
  },
  "language_info": {
   "codemirror_mode": {
    "name": "ipython",
    "version": 3
   },
   "file_extension": ".py",
   "mimetype": "text/x-python",
   "name": "python",
   "nbconvert_exporter": "python",
   "pygments_lexer": "ipython3",
   "version": "3.7.3"
  },
  "widgets": {
   "application/vnd.jupyter.widget-state+json": {
    "0cc31e0e0f1c4dfdbe6b96bc5e72ddb0": {
     "model_module": "@jupyter-widgets/controls",
     "model_module_version": "1.5.0",
     "model_name": "DescriptionStyleModel",
     "state": {
      "_model_module": "@jupyter-widgets/controls",
      "_model_module_version": "1.5.0",
      "_model_name": "DescriptionStyleModel",
      "_view_count": null,
      "_view_module": "@jupyter-widgets/base",
      "_view_module_version": "1.2.0",
      "_view_name": "StyleView",
      "description_width": ""
     }
    },
    "14f10a88add14901826cf77fc00b5848": {
     "model_module": "@jupyter-widgets/base",
     "model_module_version": "1.2.0",
     "model_name": "LayoutModel",
     "state": {
      "_model_module": "@jupyter-widgets/base",
      "_model_module_version": "1.2.0",
      "_model_name": "LayoutModel",
      "_view_count": null,
      "_view_module": "@jupyter-widgets/base",
      "_view_module_version": "1.2.0",
      "_view_name": "LayoutView",
      "align_content": null,
      "align_items": null,
      "align_self": null,
      "border": null,
      "bottom": null,
      "display": null,
      "flex": null,
      "flex_flow": null,
      "grid_area": null,
      "grid_auto_columns": null,
      "grid_auto_flow": null,
      "grid_auto_rows": null,
      "grid_column": null,
      "grid_gap": null,
      "grid_row": null,
      "grid_template_areas": null,
      "grid_template_columns": null,
      "grid_template_rows": null,
      "height": null,
      "justify_content": null,
      "justify_items": null,
      "left": null,
      "margin": null,
      "max_height": null,
      "max_width": null,
      "min_height": null,
      "min_width": null,
      "object_fit": null,
      "object_position": null,
      "order": null,
      "overflow": null,
      "overflow_x": null,
      "overflow_y": null,
      "padding": null,
      "right": null,
      "top": null,
      "visibility": null,
      "width": null
     }
    },
    "4b6fadf5e0b849bd8c1feca84f4ad79d": {
     "model_module": "@jupyter-widgets/controls",
     "model_module_version": "1.5.0",
     "model_name": "HTMLModel",
     "state": {
      "_dom_classes": [],
      "_model_module": "@jupyter-widgets/controls",
      "_model_module_version": "1.5.0",
      "_model_name": "HTMLModel",
      "_view_count": null,
      "_view_module": "@jupyter-widgets/controls",
      "_view_module_version": "1.5.0",
      "_view_name": "HTMLView",
      "description": "",
      "description_tooltip": null,
      "layout": "IPY_MODEL_dd2ba7f696634307ad31f4f3b8955521",
      "placeholder": "​",
      "style": "IPY_MODEL_985ff9ab21c04e4e9d55744bf3f2a825",
      "value": " 44.7M/44.7M [00:02&lt;00:00, 31.7MB/s]"
     }
    },
    "4ce1e990b41b488c9fc5d653471c5447": {
     "model_module": "@jupyter-widgets/controls",
     "model_module_version": "1.5.0",
     "model_name": "HTMLModel",
     "state": {
      "_dom_classes": [],
      "_model_module": "@jupyter-widgets/controls",
      "_model_module_version": "1.5.0",
      "_model_name": "HTMLModel",
      "_view_count": null,
      "_view_module": "@jupyter-widgets/controls",
      "_view_module_version": "1.5.0",
      "_view_name": "HTMLView",
      "description": "",
      "description_tooltip": null,
      "layout": "IPY_MODEL_a7017fbefe13498d914b3906f833a275",
      "placeholder": "​",
      "style": "IPY_MODEL_0cc31e0e0f1c4dfdbe6b96bc5e72ddb0",
      "value": "100%"
     }
    },
    "60be6ecd6f1048ce800bb9a4e2c60648": {
     "model_module": "@jupyter-widgets/controls",
     "model_module_version": "1.5.0",
     "model_name": "ProgressStyleModel",
     "state": {
      "_model_module": "@jupyter-widgets/controls",
      "_model_module_version": "1.5.0",
      "_model_name": "ProgressStyleModel",
      "_view_count": null,
      "_view_module": "@jupyter-widgets/base",
      "_view_module_version": "1.2.0",
      "_view_name": "StyleView",
      "bar_color": null,
      "description_width": ""
     }
    },
    "61311c63c5bf4dc0987d88728c14800b": {
     "model_module": "@jupyter-widgets/controls",
     "model_module_version": "1.5.0",
     "model_name": "HTMLModel",
     "state": {
      "_dom_classes": [],
      "_model_module": "@jupyter-widgets/controls",
      "_model_module_version": "1.5.0",
      "_model_name": "HTMLModel",
      "_view_count": null,
      "_view_module": "@jupyter-widgets/controls",
      "_view_module_version": "1.5.0",
      "_view_name": "HTMLView",
      "description": "",
      "description_tooltip": null,
      "layout": "IPY_MODEL_e57965954c5f49a8b0b0389973c23594",
      "placeholder": "​",
      "style": "IPY_MODEL_cebc3a6629f74d60af3325b61ce23696",
      "value": "100%"
     }
    },
    "6883ee671bc64f0093735894924fe127": {
     "model_module": "@jupyter-widgets/base",
     "model_module_version": "1.2.0",
     "model_name": "LayoutModel",
     "state": {
      "_model_module": "@jupyter-widgets/base",
      "_model_module_version": "1.2.0",
      "_model_name": "LayoutModel",
      "_view_count": null,
      "_view_module": "@jupyter-widgets/base",
      "_view_module_version": "1.2.0",
      "_view_name": "LayoutView",
      "align_content": null,
      "align_items": null,
      "align_self": null,
      "border": null,
      "bottom": null,
      "display": null,
      "flex": null,
      "flex_flow": null,
      "grid_area": null,
      "grid_auto_columns": null,
      "grid_auto_flow": null,
      "grid_auto_rows": null,
      "grid_column": null,
      "grid_gap": null,
      "grid_row": null,
      "grid_template_areas": null,
      "grid_template_columns": null,
      "grid_template_rows": null,
      "height": null,
      "justify_content": null,
      "justify_items": null,
      "left": null,
      "margin": null,
      "max_height": null,
      "max_width": null,
      "min_height": null,
      "min_width": null,
      "object_fit": null,
      "object_position": null,
      "order": null,
      "overflow": null,
      "overflow_x": null,
      "overflow_y": null,
      "padding": null,
      "right": null,
      "top": null,
      "visibility": null,
      "width": null
     }
    },
    "6915b675c6c3479193571be1a34b039a": {
     "model_module": "@jupyter-widgets/controls",
     "model_module_version": "1.5.0",
     "model_name": "HBoxModel",
     "state": {
      "_dom_classes": [],
      "_model_module": "@jupyter-widgets/controls",
      "_model_module_version": "1.5.0",
      "_model_name": "HBoxModel",
      "_view_count": null,
      "_view_module": "@jupyter-widgets/controls",
      "_view_module_version": "1.5.0",
      "_view_name": "HBoxView",
      "box_style": "",
      "children": [
       "IPY_MODEL_4ce1e990b41b488c9fc5d653471c5447",
       "IPY_MODEL_f1bf3a12713b482db6754a0df5ca2270",
       "IPY_MODEL_fd690f8ac7ac474c82824daaf10e6a83"
      ],
      "layout": "IPY_MODEL_6883ee671bc64f0093735894924fe127"
     }
    },
    "7b7cdb58283e4dc7a3c9ff22a1ce9757": {
     "model_module": "@jupyter-widgets/controls",
     "model_module_version": "1.5.0",
     "model_name": "ProgressStyleModel",
     "state": {
      "_model_module": "@jupyter-widgets/controls",
      "_model_module_version": "1.5.0",
      "_model_name": "ProgressStyleModel",
      "_view_count": null,
      "_view_module": "@jupyter-widgets/base",
      "_view_module_version": "1.2.0",
      "_view_name": "StyleView",
      "bar_color": null,
      "description_width": ""
     }
    },
    "985ff9ab21c04e4e9d55744bf3f2a825": {
     "model_module": "@jupyter-widgets/controls",
     "model_module_version": "1.5.0",
     "model_name": "DescriptionStyleModel",
     "state": {
      "_model_module": "@jupyter-widgets/controls",
      "_model_module_version": "1.5.0",
      "_model_name": "DescriptionStyleModel",
      "_view_count": null,
      "_view_module": "@jupyter-widgets/base",
      "_view_module_version": "1.2.0",
      "_view_name": "StyleView",
      "description_width": ""
     }
    },
    "9cebb787060a491d8c6db4b3d95d7a2c": {
     "model_module": "@jupyter-widgets/base",
     "model_module_version": "1.2.0",
     "model_name": "LayoutModel",
     "state": {
      "_model_module": "@jupyter-widgets/base",
      "_model_module_version": "1.2.0",
      "_model_name": "LayoutModel",
      "_view_count": null,
      "_view_module": "@jupyter-widgets/base",
      "_view_module_version": "1.2.0",
      "_view_name": "LayoutView",
      "align_content": null,
      "align_items": null,
      "align_self": null,
      "border": null,
      "bottom": null,
      "display": null,
      "flex": null,
      "flex_flow": null,
      "grid_area": null,
      "grid_auto_columns": null,
      "grid_auto_flow": null,
      "grid_auto_rows": null,
      "grid_column": null,
      "grid_gap": null,
      "grid_row": null,
      "grid_template_areas": null,
      "grid_template_columns": null,
      "grid_template_rows": null,
      "height": null,
      "justify_content": null,
      "justify_items": null,
      "left": null,
      "margin": null,
      "max_height": null,
      "max_width": null,
      "min_height": null,
      "min_width": null,
      "object_fit": null,
      "object_position": null,
      "order": null,
      "overflow": null,
      "overflow_x": null,
      "overflow_y": null,
      "padding": null,
      "right": null,
      "top": null,
      "visibility": null,
      "width": null
     }
    },
    "a7017fbefe13498d914b3906f833a275": {
     "model_module": "@jupyter-widgets/base",
     "model_module_version": "1.2.0",
     "model_name": "LayoutModel",
     "state": {
      "_model_module": "@jupyter-widgets/base",
      "_model_module_version": "1.2.0",
      "_model_name": "LayoutModel",
      "_view_count": null,
      "_view_module": "@jupyter-widgets/base",
      "_view_module_version": "1.2.0",
      "_view_name": "LayoutView",
      "align_content": null,
      "align_items": null,
      "align_self": null,
      "border": null,
      "bottom": null,
      "display": null,
      "flex": null,
      "flex_flow": null,
      "grid_area": null,
      "grid_auto_columns": null,
      "grid_auto_flow": null,
      "grid_auto_rows": null,
      "grid_column": null,
      "grid_gap": null,
      "grid_row": null,
      "grid_template_areas": null,
      "grid_template_columns": null,
      "grid_template_rows": null,
      "height": null,
      "justify_content": null,
      "justify_items": null,
      "left": null,
      "margin": null,
      "max_height": null,
      "max_width": null,
      "min_height": null,
      "min_width": null,
      "object_fit": null,
      "object_position": null,
      "order": null,
      "overflow": null,
      "overflow_x": null,
      "overflow_y": null,
      "padding": null,
      "right": null,
      "top": null,
      "visibility": null,
      "width": null
     }
    },
    "a88571e2a4e24d988dda032bd8f85593": {
     "model_module": "@jupyter-widgets/controls",
     "model_module_version": "1.5.0",
     "model_name": "DescriptionStyleModel",
     "state": {
      "_model_module": "@jupyter-widgets/controls",
      "_model_module_version": "1.5.0",
      "_model_name": "DescriptionStyleModel",
      "_view_count": null,
      "_view_module": "@jupyter-widgets/base",
      "_view_module_version": "1.2.0",
      "_view_name": "StyleView",
      "description_width": ""
     }
    },
    "cebc3a6629f74d60af3325b61ce23696": {
     "model_module": "@jupyter-widgets/controls",
     "model_module_version": "1.5.0",
     "model_name": "DescriptionStyleModel",
     "state": {
      "_model_module": "@jupyter-widgets/controls",
      "_model_module_version": "1.5.0",
      "_model_name": "DescriptionStyleModel",
      "_view_count": null,
      "_view_module": "@jupyter-widgets/base",
      "_view_module_version": "1.2.0",
      "_view_name": "StyleView",
      "description_width": ""
     }
    },
    "d0c347a5ece842f4ba1cf20405b02e35": {
     "model_module": "@jupyter-widgets/base",
     "model_module_version": "1.2.0",
     "model_name": "LayoutModel",
     "state": {
      "_model_module": "@jupyter-widgets/base",
      "_model_module_version": "1.2.0",
      "_model_name": "LayoutModel",
      "_view_count": null,
      "_view_module": "@jupyter-widgets/base",
      "_view_module_version": "1.2.0",
      "_view_name": "LayoutView",
      "align_content": null,
      "align_items": null,
      "align_self": null,
      "border": null,
      "bottom": null,
      "display": null,
      "flex": null,
      "flex_flow": null,
      "grid_area": null,
      "grid_auto_columns": null,
      "grid_auto_flow": null,
      "grid_auto_rows": null,
      "grid_column": null,
      "grid_gap": null,
      "grid_row": null,
      "grid_template_areas": null,
      "grid_template_columns": null,
      "grid_template_rows": null,
      "height": null,
      "justify_content": null,
      "justify_items": null,
      "left": null,
      "margin": null,
      "max_height": null,
      "max_width": null,
      "min_height": null,
      "min_width": null,
      "object_fit": null,
      "object_position": null,
      "order": null,
      "overflow": null,
      "overflow_x": null,
      "overflow_y": null,
      "padding": null,
      "right": null,
      "top": null,
      "visibility": null,
      "width": null
     }
    },
    "d39ac28a4b58497b9a870626114f5c74": {
     "model_module": "@jupyter-widgets/base",
     "model_module_version": "1.2.0",
     "model_name": "LayoutModel",
     "state": {
      "_model_module": "@jupyter-widgets/base",
      "_model_module_version": "1.2.0",
      "_model_name": "LayoutModel",
      "_view_count": null,
      "_view_module": "@jupyter-widgets/base",
      "_view_module_version": "1.2.0",
      "_view_name": "LayoutView",
      "align_content": null,
      "align_items": null,
      "align_self": null,
      "border": null,
      "bottom": null,
      "display": null,
      "flex": null,
      "flex_flow": null,
      "grid_area": null,
      "grid_auto_columns": null,
      "grid_auto_flow": null,
      "grid_auto_rows": null,
      "grid_column": null,
      "grid_gap": null,
      "grid_row": null,
      "grid_template_areas": null,
      "grid_template_columns": null,
      "grid_template_rows": null,
      "height": null,
      "justify_content": null,
      "justify_items": null,
      "left": null,
      "margin": null,
      "max_height": null,
      "max_width": null,
      "min_height": null,
      "min_width": null,
      "object_fit": null,
      "object_position": null,
      "order": null,
      "overflow": null,
      "overflow_x": null,
      "overflow_y": null,
      "padding": null,
      "right": null,
      "top": null,
      "visibility": null,
      "width": null
     }
    },
    "dd2ba7f696634307ad31f4f3b8955521": {
     "model_module": "@jupyter-widgets/base",
     "model_module_version": "1.2.0",
     "model_name": "LayoutModel",
     "state": {
      "_model_module": "@jupyter-widgets/base",
      "_model_module_version": "1.2.0",
      "_model_name": "LayoutModel",
      "_view_count": null,
      "_view_module": "@jupyter-widgets/base",
      "_view_module_version": "1.2.0",
      "_view_name": "LayoutView",
      "align_content": null,
      "align_items": null,
      "align_self": null,
      "border": null,
      "bottom": null,
      "display": null,
      "flex": null,
      "flex_flow": null,
      "grid_area": null,
      "grid_auto_columns": null,
      "grid_auto_flow": null,
      "grid_auto_rows": null,
      "grid_column": null,
      "grid_gap": null,
      "grid_row": null,
      "grid_template_areas": null,
      "grid_template_columns": null,
      "grid_template_rows": null,
      "height": null,
      "justify_content": null,
      "justify_items": null,
      "left": null,
      "margin": null,
      "max_height": null,
      "max_width": null,
      "min_height": null,
      "min_width": null,
      "object_fit": null,
      "object_position": null,
      "order": null,
      "overflow": null,
      "overflow_x": null,
      "overflow_y": null,
      "padding": null,
      "right": null,
      "top": null,
      "visibility": null,
      "width": null
     }
    },
    "e57965954c5f49a8b0b0389973c23594": {
     "model_module": "@jupyter-widgets/base",
     "model_module_version": "1.2.0",
     "model_name": "LayoutModel",
     "state": {
      "_model_module": "@jupyter-widgets/base",
      "_model_module_version": "1.2.0",
      "_model_name": "LayoutModel",
      "_view_count": null,
      "_view_module": "@jupyter-widgets/base",
      "_view_module_version": "1.2.0",
      "_view_name": "LayoutView",
      "align_content": null,
      "align_items": null,
      "align_self": null,
      "border": null,
      "bottom": null,
      "display": null,
      "flex": null,
      "flex_flow": null,
      "grid_area": null,
      "grid_auto_columns": null,
      "grid_auto_flow": null,
      "grid_auto_rows": null,
      "grid_column": null,
      "grid_gap": null,
      "grid_row": null,
      "grid_template_areas": null,
      "grid_template_columns": null,
      "grid_template_rows": null,
      "height": null,
      "justify_content": null,
      "justify_items": null,
      "left": null,
      "margin": null,
      "max_height": null,
      "max_width": null,
      "min_height": null,
      "min_width": null,
      "object_fit": null,
      "object_position": null,
      "order": null,
      "overflow": null,
      "overflow_x": null,
      "overflow_y": null,
      "padding": null,
      "right": null,
      "top": null,
      "visibility": null,
      "width": null
     }
    },
    "f1a3eecf3e8648ddb1c2a7c0e999b403": {
     "model_module": "@jupyter-widgets/controls",
     "model_module_version": "1.5.0",
     "model_name": "FloatProgressModel",
     "state": {
      "_dom_classes": [],
      "_model_module": "@jupyter-widgets/controls",
      "_model_module_version": "1.5.0",
      "_model_name": "FloatProgressModel",
      "_view_count": null,
      "_view_module": "@jupyter-widgets/controls",
      "_view_module_version": "1.5.0",
      "_view_name": "ProgressView",
      "bar_style": "success",
      "description": "",
      "description_tooltip": null,
      "layout": "IPY_MODEL_d0c347a5ece842f4ba1cf20405b02e35",
      "max": 46830571,
      "min": 0,
      "orientation": "horizontal",
      "style": "IPY_MODEL_60be6ecd6f1048ce800bb9a4e2c60648",
      "value": 46830571
     }
    },
    "f1bf3a12713b482db6754a0df5ca2270": {
     "model_module": "@jupyter-widgets/controls",
     "model_module_version": "1.5.0",
     "model_name": "FloatProgressModel",
     "state": {
      "_dom_classes": [],
      "_model_module": "@jupyter-widgets/controls",
      "_model_module_version": "1.5.0",
      "_model_name": "FloatProgressModel",
      "_view_count": null,
      "_view_module": "@jupyter-widgets/controls",
      "_view_module_version": "1.5.0",
      "_view_name": "ProgressView",
      "bar_style": "success",
      "description": "",
      "description_tooltip": null,
      "layout": "IPY_MODEL_9cebb787060a491d8c6db4b3d95d7a2c",
      "max": 102530333,
      "min": 0,
      "orientation": "horizontal",
      "style": "IPY_MODEL_7b7cdb58283e4dc7a3c9ff22a1ce9757",
      "value": 102530333
     }
    },
    "f3c2365528064d3d9288d6e4f48fb96b": {
     "model_module": "@jupyter-widgets/controls",
     "model_module_version": "1.5.0",
     "model_name": "HBoxModel",
     "state": {
      "_dom_classes": [],
      "_model_module": "@jupyter-widgets/controls",
      "_model_module_version": "1.5.0",
      "_model_name": "HBoxModel",
      "_view_count": null,
      "_view_module": "@jupyter-widgets/controls",
      "_view_module_version": "1.5.0",
      "_view_name": "HBoxView",
      "box_style": "",
      "children": [
       "IPY_MODEL_61311c63c5bf4dc0987d88728c14800b",
       "IPY_MODEL_f1a3eecf3e8648ddb1c2a7c0e999b403",
       "IPY_MODEL_4b6fadf5e0b849bd8c1feca84f4ad79d"
      ],
      "layout": "IPY_MODEL_14f10a88add14901826cf77fc00b5848"
     }
    },
    "fd690f8ac7ac474c82824daaf10e6a83": {
     "model_module": "@jupyter-widgets/controls",
     "model_module_version": "1.5.0",
     "model_name": "HTMLModel",
     "state": {
      "_dom_classes": [],
      "_model_module": "@jupyter-widgets/controls",
      "_model_module_version": "1.5.0",
      "_model_name": "HTMLModel",
      "_view_count": null,
      "_view_module": "@jupyter-widgets/controls",
      "_view_module_version": "1.5.0",
      "_view_name": "HTMLView",
      "description": "",
      "description_tooltip": null,
      "layout": "IPY_MODEL_d39ac28a4b58497b9a870626114f5c74",
      "placeholder": "​",
      "style": "IPY_MODEL_a88571e2a4e24d988dda032bd8f85593",
      "value": " 97.8M/97.8M [00:05&lt;00:00, 22.0MB/s]"
     }
    }
   }
  }
 },
 "nbformat": 4,
 "nbformat_minor": 4
}
